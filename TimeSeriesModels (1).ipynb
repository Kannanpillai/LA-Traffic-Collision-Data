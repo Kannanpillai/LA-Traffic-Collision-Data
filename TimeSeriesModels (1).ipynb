{
  "nbformat": 4,
  "nbformat_minor": 0,
  "metadata": {
    "colab": {
      "name": "TimeSeriesModels.ipynb",
      "provenance": [],
      "collapsed_sections": []
    },
    "kernelspec": {
      "name": "python3",
      "display_name": "Python 3"
    },
    "widgets": {
      "application/vnd.jupyter.widget-state+json": {
        "d52c995a993c4fbbb8a48933aa7df1f6": {
          "model_module": "@jupyter-widgets/controls",
          "model_name": "HBoxModel",
          "state": {
            "_view_name": "HBoxView",
            "_dom_classes": [],
            "_model_name": "HBoxModel",
            "_view_module": "@jupyter-widgets/controls",
            "_model_module_version": "1.5.0",
            "_view_count": null,
            "_view_module_version": "1.5.0",
            "box_style": "",
            "layout": "IPY_MODEL_48bb036586ed48ca8ed71582291fdc2d",
            "_model_module": "@jupyter-widgets/controls",
            "children": [
              "IPY_MODEL_c3302d18933d47d4a73f0320151b8195",
              "IPY_MODEL_9c3c1a7ec1504459b3f48835d964c28f"
            ]
          }
        },
        "48bb036586ed48ca8ed71582291fdc2d": {
          "model_module": "@jupyter-widgets/base",
          "model_name": "LayoutModel",
          "state": {
            "_view_name": "LayoutView",
            "grid_template_rows": null,
            "right": null,
            "justify_content": null,
            "_view_module": "@jupyter-widgets/base",
            "overflow": null,
            "_model_module_version": "1.2.0",
            "_view_count": null,
            "flex_flow": null,
            "width": null,
            "min_width": null,
            "border": null,
            "align_items": null,
            "bottom": null,
            "_model_module": "@jupyter-widgets/base",
            "top": null,
            "grid_column": null,
            "overflow_y": null,
            "overflow_x": null,
            "grid_auto_flow": null,
            "grid_area": null,
            "grid_template_columns": null,
            "flex": null,
            "_model_name": "LayoutModel",
            "justify_items": null,
            "grid_row": null,
            "max_height": null,
            "align_content": null,
            "visibility": null,
            "align_self": null,
            "height": null,
            "min_height": null,
            "padding": null,
            "grid_auto_rows": null,
            "grid_gap": null,
            "max_width": null,
            "order": null,
            "_view_module_version": "1.2.0",
            "grid_template_areas": null,
            "object_position": null,
            "object_fit": null,
            "grid_auto_columns": null,
            "margin": null,
            "display": null,
            "left": null
          }
        },
        "c3302d18933d47d4a73f0320151b8195": {
          "model_module": "@jupyter-widgets/controls",
          "model_name": "FloatProgressModel",
          "state": {
            "_view_name": "ProgressView",
            "style": "IPY_MODEL_2fed021ff9d44caeb858619ab8e93214",
            "_dom_classes": [],
            "description": "100%",
            "_model_name": "FloatProgressModel",
            "bar_style": "success",
            "max": 17,
            "_view_module": "@jupyter-widgets/controls",
            "_model_module_version": "1.5.0",
            "value": 17,
            "_view_count": null,
            "_view_module_version": "1.5.0",
            "orientation": "horizontal",
            "min": 0,
            "description_tooltip": null,
            "_model_module": "@jupyter-widgets/controls",
            "layout": "IPY_MODEL_b816c294fc37480bb683c0836dd79fed"
          }
        },
        "9c3c1a7ec1504459b3f48835d964c28f": {
          "model_module": "@jupyter-widgets/controls",
          "model_name": "HTMLModel",
          "state": {
            "_view_name": "HTMLView",
            "style": "IPY_MODEL_53f611ea683b45349230712adfbfb559",
            "_dom_classes": [],
            "description": "",
            "_model_name": "HTMLModel",
            "placeholder": "​",
            "_view_module": "@jupyter-widgets/controls",
            "_model_module_version": "1.5.0",
            "value": " 17/17 [13:56&lt;00:00, 49.20s/it]",
            "_view_count": null,
            "_view_module_version": "1.5.0",
            "description_tooltip": null,
            "_model_module": "@jupyter-widgets/controls",
            "layout": "IPY_MODEL_fa988073255f4a36a3eba25ac0493536"
          }
        },
        "2fed021ff9d44caeb858619ab8e93214": {
          "model_module": "@jupyter-widgets/controls",
          "model_name": "ProgressStyleModel",
          "state": {
            "_view_name": "StyleView",
            "_model_name": "ProgressStyleModel",
            "description_width": "initial",
            "_view_module": "@jupyter-widgets/base",
            "_model_module_version": "1.5.0",
            "_view_count": null,
            "_view_module_version": "1.2.0",
            "bar_color": null,
            "_model_module": "@jupyter-widgets/controls"
          }
        },
        "b816c294fc37480bb683c0836dd79fed": {
          "model_module": "@jupyter-widgets/base",
          "model_name": "LayoutModel",
          "state": {
            "_view_name": "LayoutView",
            "grid_template_rows": null,
            "right": null,
            "justify_content": null,
            "_view_module": "@jupyter-widgets/base",
            "overflow": null,
            "_model_module_version": "1.2.0",
            "_view_count": null,
            "flex_flow": null,
            "width": null,
            "min_width": null,
            "border": null,
            "align_items": null,
            "bottom": null,
            "_model_module": "@jupyter-widgets/base",
            "top": null,
            "grid_column": null,
            "overflow_y": null,
            "overflow_x": null,
            "grid_auto_flow": null,
            "grid_area": null,
            "grid_template_columns": null,
            "flex": null,
            "_model_name": "LayoutModel",
            "justify_items": null,
            "grid_row": null,
            "max_height": null,
            "align_content": null,
            "visibility": null,
            "align_self": null,
            "height": null,
            "min_height": null,
            "padding": null,
            "grid_auto_rows": null,
            "grid_gap": null,
            "max_width": null,
            "order": null,
            "_view_module_version": "1.2.0",
            "grid_template_areas": null,
            "object_position": null,
            "object_fit": null,
            "grid_auto_columns": null,
            "margin": null,
            "display": null,
            "left": null
          }
        },
        "53f611ea683b45349230712adfbfb559": {
          "model_module": "@jupyter-widgets/controls",
          "model_name": "DescriptionStyleModel",
          "state": {
            "_view_name": "StyleView",
            "_model_name": "DescriptionStyleModel",
            "description_width": "",
            "_view_module": "@jupyter-widgets/base",
            "_model_module_version": "1.5.0",
            "_view_count": null,
            "_view_module_version": "1.2.0",
            "_model_module": "@jupyter-widgets/controls"
          }
        },
        "fa988073255f4a36a3eba25ac0493536": {
          "model_module": "@jupyter-widgets/base",
          "model_name": "LayoutModel",
          "state": {
            "_view_name": "LayoutView",
            "grid_template_rows": null,
            "right": null,
            "justify_content": null,
            "_view_module": "@jupyter-widgets/base",
            "overflow": null,
            "_model_module_version": "1.2.0",
            "_view_count": null,
            "flex_flow": null,
            "width": null,
            "min_width": null,
            "border": null,
            "align_items": null,
            "bottom": null,
            "_model_module": "@jupyter-widgets/base",
            "top": null,
            "grid_column": null,
            "overflow_y": null,
            "overflow_x": null,
            "grid_auto_flow": null,
            "grid_area": null,
            "grid_template_columns": null,
            "flex": null,
            "_model_name": "LayoutModel",
            "justify_items": null,
            "grid_row": null,
            "max_height": null,
            "align_content": null,
            "visibility": null,
            "align_self": null,
            "height": null,
            "min_height": null,
            "padding": null,
            "grid_auto_rows": null,
            "grid_gap": null,
            "max_width": null,
            "order": null,
            "_view_module_version": "1.2.0",
            "grid_template_areas": null,
            "object_position": null,
            "object_fit": null,
            "grid_auto_columns": null,
            "margin": null,
            "display": null,
            "left": null
          }
        }
      }
    }
  },
  "cells": [
    {
      "cell_type": "code",
      "metadata": {
        "id": "v75mS0OcE8vT"
      },
      "source": [
        "import pandas as pd\r\n",
        "import numpy as np\r\n",
        "import matplotlib.pyplot as plt\r\n",
        "import seaborn as sns"
      ],
      "execution_count": null,
      "outputs": []
    },
    {
      "cell_type": "code",
      "metadata": {
        "id": "4MrMcnw_nGW2"
      },
      "source": [
        "import datetime "
      ],
      "execution_count": null,
      "outputs": []
    },
    {
      "cell_type": "code",
      "metadata": {
        "colab": {
          "base_uri": "https://localhost:8080/"
        },
        "id": "-fGu76K9nKAK",
        "outputId": "f8f17ccf-bab2-4663-8b62-d7cde3e74f7c"
      },
      "source": [
        "from google.colab import drive\r\n",
        "drive.mount('/gdrive')\r\n",
        "%cd /gdrive"
      ],
      "execution_count": null,
      "outputs": [
        {
          "output_type": "stream",
          "text": [
            "Mounted at /gdrive\n",
            "/gdrive\n"
          ],
          "name": "stdout"
        }
      ]
    },
    {
      "cell_type": "code",
      "metadata": {
        "id": "iuHq4T9DnU0T"
      },
      "source": [
        "data=pd.read_csv('/gdrive/MyDrive/finalproject/Traffic_Collision_Data_from_2010_to_Present.csv',parse_dates=['Date Reported','Date Occurred'])"
      ],
      "execution_count": null,
      "outputs": []
    },
    {
      "cell_type": "code",
      "metadata": {
        "colab": {
          "base_uri": "https://localhost:8080/"
        },
        "id": "KLsdZlMXKNfv",
        "outputId": "57c76cd7-510b-47af-c449-a7ef966834ad"
      },
      "source": [
        "from google.colab import drive\n",
        "drive.mount('/content/drive')"
      ],
      "execution_count": null,
      "outputs": [
        {
          "output_type": "stream",
          "text": [
            "Mounted at /content/drive\n"
          ],
          "name": "stdout"
        }
      ]
    },
    {
      "cell_type": "code",
      "metadata": {
        "colab": {
          "base_uri": "https://localhost:8080/",
          "height": 615
        },
        "id": "eFqfpaYGO63t",
        "outputId": "4883e646-f823-4560-8aed-51c2d46c4639"
      },
      "source": [
        "data.head()"
      ],
      "execution_count": null,
      "outputs": [
        {
          "output_type": "execute_result",
          "data": {
            "text/html": [
              "<div>\n",
              "<style scoped>\n",
              "    .dataframe tbody tr th:only-of-type {\n",
              "        vertical-align: middle;\n",
              "    }\n",
              "\n",
              "    .dataframe tbody tr th {\n",
              "        vertical-align: top;\n",
              "    }\n",
              "\n",
              "    .dataframe thead th {\n",
              "        text-align: right;\n",
              "    }\n",
              "</style>\n",
              "<table border=\"1\" class=\"dataframe\">\n",
              "  <thead>\n",
              "    <tr style=\"text-align: right;\">\n",
              "      <th></th>\n",
              "      <th>DR Number</th>\n",
              "      <th>Date Reported</th>\n",
              "      <th>Date Occurred</th>\n",
              "      <th>Time Occurred</th>\n",
              "      <th>Area ID</th>\n",
              "      <th>Area Name</th>\n",
              "      <th>Reporting District</th>\n",
              "      <th>Crime Code</th>\n",
              "      <th>Crime Code Description</th>\n",
              "      <th>MO Codes</th>\n",
              "      <th>Victim Age</th>\n",
              "      <th>Victim Sex</th>\n",
              "      <th>Victim Descent</th>\n",
              "      <th>Premise Code</th>\n",
              "      <th>Premise Description</th>\n",
              "      <th>Address</th>\n",
              "      <th>Cross Street</th>\n",
              "      <th>Location</th>\n",
              "    </tr>\n",
              "  </thead>\n",
              "  <tbody>\n",
              "    <tr>\n",
              "      <th>0</th>\n",
              "      <td>190319651</td>\n",
              "      <td>2019-08-24</td>\n",
              "      <td>2019-08-24</td>\n",
              "      <td>450</td>\n",
              "      <td>3</td>\n",
              "      <td>Southwest</td>\n",
              "      <td>356</td>\n",
              "      <td>997</td>\n",
              "      <td>TRAFFIC COLLISION</td>\n",
              "      <td>3036 3004 3026 3101 4003</td>\n",
              "      <td>22.0</td>\n",
              "      <td>M</td>\n",
              "      <td>H</td>\n",
              "      <td>101.0</td>\n",
              "      <td>STREET</td>\n",
              "      <td>JEFFERSON                    BL</td>\n",
              "      <td>NORMANDIE                    AV</td>\n",
              "      <td>(34.0255, -118.3002)</td>\n",
              "    </tr>\n",
              "    <tr>\n",
              "      <th>1</th>\n",
              "      <td>190319680</td>\n",
              "      <td>2019-08-30</td>\n",
              "      <td>2019-08-30</td>\n",
              "      <td>2320</td>\n",
              "      <td>3</td>\n",
              "      <td>Southwest</td>\n",
              "      <td>355</td>\n",
              "      <td>997</td>\n",
              "      <td>TRAFFIC COLLISION</td>\n",
              "      <td>3037 3006 3028 3030 3039 3101 4003</td>\n",
              "      <td>30.0</td>\n",
              "      <td>F</td>\n",
              "      <td>H</td>\n",
              "      <td>101.0</td>\n",
              "      <td>STREET</td>\n",
              "      <td>JEFFERSON                    BL</td>\n",
              "      <td>W  WESTERN</td>\n",
              "      <td>(34.0256, -118.3089)</td>\n",
              "    </tr>\n",
              "    <tr>\n",
              "      <th>2</th>\n",
              "      <td>190413769</td>\n",
              "      <td>2019-08-25</td>\n",
              "      <td>2019-08-25</td>\n",
              "      <td>545</td>\n",
              "      <td>4</td>\n",
              "      <td>Hollenbeck</td>\n",
              "      <td>422</td>\n",
              "      <td>997</td>\n",
              "      <td>TRAFFIC COLLISION</td>\n",
              "      <td>3101 3401 3701 3006 3030</td>\n",
              "      <td>NaN</td>\n",
              "      <td>M</td>\n",
              "      <td>X</td>\n",
              "      <td>101.0</td>\n",
              "      <td>STREET</td>\n",
              "      <td>N  BROADWAY</td>\n",
              "      <td>W  EASTLAKE                     AV</td>\n",
              "      <td>(34.0738, -118.2078)</td>\n",
              "    </tr>\n",
              "    <tr>\n",
              "      <th>3</th>\n",
              "      <td>190127578</td>\n",
              "      <td>2019-11-20</td>\n",
              "      <td>2019-11-20</td>\n",
              "      <td>350</td>\n",
              "      <td>1</td>\n",
              "      <td>Central</td>\n",
              "      <td>128</td>\n",
              "      <td>997</td>\n",
              "      <td>TRAFFIC COLLISION</td>\n",
              "      <td>0605 3101 3401 3701 3011 3034</td>\n",
              "      <td>21.0</td>\n",
              "      <td>M</td>\n",
              "      <td>H</td>\n",
              "      <td>101.0</td>\n",
              "      <td>STREET</td>\n",
              "      <td>1ST</td>\n",
              "      <td>CENTRAL</td>\n",
              "      <td>(34.0492, -118.2391)</td>\n",
              "    </tr>\n",
              "    <tr>\n",
              "      <th>4</th>\n",
              "      <td>190319695</td>\n",
              "      <td>2019-08-30</td>\n",
              "      <td>2019-08-30</td>\n",
              "      <td>2100</td>\n",
              "      <td>3</td>\n",
              "      <td>Southwest</td>\n",
              "      <td>374</td>\n",
              "      <td>997</td>\n",
              "      <td>TRAFFIC COLLISION</td>\n",
              "      <td>0605 4025 3037 3004 3025 3101</td>\n",
              "      <td>49.0</td>\n",
              "      <td>M</td>\n",
              "      <td>B</td>\n",
              "      <td>101.0</td>\n",
              "      <td>STREET</td>\n",
              "      <td>MARTIN LUTHER KING JR</td>\n",
              "      <td>ARLINGTON                    AV</td>\n",
              "      <td>(34.0108, -118.3182)</td>\n",
              "    </tr>\n",
              "  </tbody>\n",
              "</table>\n",
              "</div>"
            ],
            "text/plain": [
              "   DR Number  ...              Location\n",
              "0  190319651  ...  (34.0255, -118.3002)\n",
              "1  190319680  ...  (34.0256, -118.3089)\n",
              "2  190413769  ...  (34.0738, -118.2078)\n",
              "3  190127578  ...  (34.0492, -118.2391)\n",
              "4  190319695  ...  (34.0108, -118.3182)\n",
              "\n",
              "[5 rows x 18 columns]"
            ]
          },
          "metadata": {
            "tags": []
          },
          "execution_count": 6
        }
      ]
    },
    {
      "cell_type": "code",
      "metadata": {
        "colab": {
          "base_uri": "https://localhost:8080/"
        },
        "id": "lupQd7-VPCnI",
        "outputId": "610d61ce-3868-4b74-cfa9-5254db616db1"
      },
      "source": [
        "data.info()"
      ],
      "execution_count": null,
      "outputs": [
        {
          "output_type": "stream",
          "text": [
            "<class 'pandas.core.frame.DataFrame'>\n",
            "RangeIndex: 551105 entries, 0 to 551104\n",
            "Data columns (total 18 columns):\n",
            " #   Column                  Non-Null Count   Dtype         \n",
            "---  ------                  --------------   -----         \n",
            " 0   DR Number               551105 non-null  int64         \n",
            " 1   Date Reported           551105 non-null  datetime64[ns]\n",
            " 2   Date Occurred           551105 non-null  datetime64[ns]\n",
            " 3   Time Occurred           551105 non-null  int64         \n",
            " 4   Area ID                 551105 non-null  int64         \n",
            " 5   Area Name               551105 non-null  object        \n",
            " 6   Reporting District      551105 non-null  int64         \n",
            " 7   Crime Code              551105 non-null  int64         \n",
            " 8   Crime Code Description  551105 non-null  object        \n",
            " 9   MO Codes                462919 non-null  object        \n",
            " 10  Victim Age              469462 non-null  float64       \n",
            " 11  Victim Sex              542439 non-null  object        \n",
            " 12  Victim Descent          541577 non-null  object        \n",
            " 13  Premise Code            550138 non-null  float64       \n",
            " 14  Premise Description     550137 non-null  object        \n",
            " 15  Address                 551105 non-null  object        \n",
            " 16  Cross Street            524726 non-null  object        \n",
            " 17  Location                551105 non-null  object        \n",
            "dtypes: datetime64[ns](2), float64(2), int64(5), object(9)\n",
            "memory usage: 75.7+ MB\n"
          ],
          "name": "stdout"
        }
      ]
    },
    {
      "cell_type": "code",
      "metadata": {
        "colab": {
          "base_uri": "https://localhost:8080/"
        },
        "id": "ii9sQnlcPCq3",
        "outputId": "d362eab3-e96d-4d4d-dbb2-3670932e62ee"
      },
      "source": [
        "data.isnull().sum()"
      ],
      "execution_count": null,
      "outputs": [
        {
          "output_type": "execute_result",
          "data": {
            "text/plain": [
              "DR Number                     0\n",
              "Date Reported                 0\n",
              "Date Occurred                 0\n",
              "Time Occurred                 0\n",
              "Area ID                       0\n",
              "Area Name                     0\n",
              "Reporting District            0\n",
              "Crime Code                    0\n",
              "Crime Code Description        0\n",
              "MO Codes                  88186\n",
              "Victim Age                81643\n",
              "Victim Sex                 8666\n",
              "Victim Descent             9528\n",
              "Premise Code                967\n",
              "Premise Description         968\n",
              "Address                       0\n",
              "Cross Street              26379\n",
              "Location                      0\n",
              "dtype: int64"
            ]
          },
          "metadata": {
            "tags": []
          },
          "execution_count": 7
        }
      ]
    },
    {
      "cell_type": "code",
      "metadata": {
        "colab": {
          "base_uri": "https://localhost:8080/"
        },
        "id": "gV_tZUMgPgYY",
        "outputId": "30798a7e-ecdc-4d74-ff81-e83b8d2731d7"
      },
      "source": [
        "data.nunique()"
      ],
      "execution_count": null,
      "outputs": [
        {
          "output_type": "execute_result",
          "data": {
            "text/plain": [
              "DR Number                 551105\n",
              "Date Reported               4027\n",
              "Date Occurred               4027\n",
              "Time Occurred               1439\n",
              "Area ID                       21\n",
              "Area Name                     21\n",
              "Reporting District          1332\n",
              "Crime Code                     1\n",
              "Crime Code Description         1\n",
              "MO Codes                   86263\n",
              "Victim Age                    90\n",
              "Victim Sex                     5\n",
              "Victim Descent                20\n",
              "Premise Code                 117\n",
              "Premise Description          116\n",
              "Address                    27643\n",
              "Cross Street               20517\n",
              "Location                   47516\n",
              "dtype: int64"
            ]
          },
          "metadata": {
            "tags": []
          },
          "execution_count": 8
        }
      ]
    },
    {
      "cell_type": "code",
      "metadata": {
        "colab": {
          "base_uri": "https://localhost:8080/",
          "height": 635
        },
        "id": "Qsq3V1UTPgbV",
        "outputId": "1f020137-1603-4531-9286-16cfeef11f6e"
      },
      "source": [
        "data['year'] = pd.DatetimeIndex(data['Date Occurred']).year\r\n",
        "data['month'] = pd.DatetimeIndex(data['Date Occurred']).month\r\n",
        "data['weekday'] = pd.DatetimeIndex(data['Date Occurred']).dayofweek\r\n",
        "data.head()"
      ],
      "execution_count": null,
      "outputs": [
        {
          "output_type": "execute_result",
          "data": {
            "text/html": [
              "<div>\n",
              "<style scoped>\n",
              "    .dataframe tbody tr th:only-of-type {\n",
              "        vertical-align: middle;\n",
              "    }\n",
              "\n",
              "    .dataframe tbody tr th {\n",
              "        vertical-align: top;\n",
              "    }\n",
              "\n",
              "    .dataframe thead th {\n",
              "        text-align: right;\n",
              "    }\n",
              "</style>\n",
              "<table border=\"1\" class=\"dataframe\">\n",
              "  <thead>\n",
              "    <tr style=\"text-align: right;\">\n",
              "      <th></th>\n",
              "      <th>DR Number</th>\n",
              "      <th>Date Reported</th>\n",
              "      <th>Date Occurred</th>\n",
              "      <th>Time Occurred</th>\n",
              "      <th>Area ID</th>\n",
              "      <th>Area Name</th>\n",
              "      <th>Reporting District</th>\n",
              "      <th>Crime Code</th>\n",
              "      <th>Crime Code Description</th>\n",
              "      <th>MO Codes</th>\n",
              "      <th>Victim Age</th>\n",
              "      <th>Victim Sex</th>\n",
              "      <th>Victim Descent</th>\n",
              "      <th>Premise Code</th>\n",
              "      <th>Premise Description</th>\n",
              "      <th>Address</th>\n",
              "      <th>Cross Street</th>\n",
              "      <th>Location</th>\n",
              "      <th>year</th>\n",
              "      <th>month</th>\n",
              "      <th>weekday</th>\n",
              "    </tr>\n",
              "  </thead>\n",
              "  <tbody>\n",
              "    <tr>\n",
              "      <th>0</th>\n",
              "      <td>190319651</td>\n",
              "      <td>2019-08-24</td>\n",
              "      <td>2019-08-24</td>\n",
              "      <td>450</td>\n",
              "      <td>3</td>\n",
              "      <td>Southwest</td>\n",
              "      <td>356</td>\n",
              "      <td>997</td>\n",
              "      <td>TRAFFIC COLLISION</td>\n",
              "      <td>3036 3004 3026 3101 4003</td>\n",
              "      <td>22.0</td>\n",
              "      <td>M</td>\n",
              "      <td>H</td>\n",
              "      <td>101.0</td>\n",
              "      <td>STREET</td>\n",
              "      <td>JEFFERSON                    BL</td>\n",
              "      <td>NORMANDIE                    AV</td>\n",
              "      <td>(34.0255, -118.3002)</td>\n",
              "      <td>2019</td>\n",
              "      <td>8</td>\n",
              "      <td>5</td>\n",
              "    </tr>\n",
              "    <tr>\n",
              "      <th>1</th>\n",
              "      <td>190319680</td>\n",
              "      <td>2019-08-30</td>\n",
              "      <td>2019-08-30</td>\n",
              "      <td>2320</td>\n",
              "      <td>3</td>\n",
              "      <td>Southwest</td>\n",
              "      <td>355</td>\n",
              "      <td>997</td>\n",
              "      <td>TRAFFIC COLLISION</td>\n",
              "      <td>3037 3006 3028 3030 3039 3101 4003</td>\n",
              "      <td>30.0</td>\n",
              "      <td>F</td>\n",
              "      <td>H</td>\n",
              "      <td>101.0</td>\n",
              "      <td>STREET</td>\n",
              "      <td>JEFFERSON                    BL</td>\n",
              "      <td>W  WESTERN</td>\n",
              "      <td>(34.0256, -118.3089)</td>\n",
              "      <td>2019</td>\n",
              "      <td>8</td>\n",
              "      <td>4</td>\n",
              "    </tr>\n",
              "    <tr>\n",
              "      <th>2</th>\n",
              "      <td>190413769</td>\n",
              "      <td>2019-08-25</td>\n",
              "      <td>2019-08-25</td>\n",
              "      <td>545</td>\n",
              "      <td>4</td>\n",
              "      <td>Hollenbeck</td>\n",
              "      <td>422</td>\n",
              "      <td>997</td>\n",
              "      <td>TRAFFIC COLLISION</td>\n",
              "      <td>3101 3401 3701 3006 3030</td>\n",
              "      <td>NaN</td>\n",
              "      <td>M</td>\n",
              "      <td>X</td>\n",
              "      <td>101.0</td>\n",
              "      <td>STREET</td>\n",
              "      <td>N  BROADWAY</td>\n",
              "      <td>W  EASTLAKE                     AV</td>\n",
              "      <td>(34.0738, -118.2078)</td>\n",
              "      <td>2019</td>\n",
              "      <td>8</td>\n",
              "      <td>6</td>\n",
              "    </tr>\n",
              "    <tr>\n",
              "      <th>3</th>\n",
              "      <td>190127578</td>\n",
              "      <td>2019-11-20</td>\n",
              "      <td>2019-11-20</td>\n",
              "      <td>350</td>\n",
              "      <td>1</td>\n",
              "      <td>Central</td>\n",
              "      <td>128</td>\n",
              "      <td>997</td>\n",
              "      <td>TRAFFIC COLLISION</td>\n",
              "      <td>0605 3101 3401 3701 3011 3034</td>\n",
              "      <td>21.0</td>\n",
              "      <td>M</td>\n",
              "      <td>H</td>\n",
              "      <td>101.0</td>\n",
              "      <td>STREET</td>\n",
              "      <td>1ST</td>\n",
              "      <td>CENTRAL</td>\n",
              "      <td>(34.0492, -118.2391)</td>\n",
              "      <td>2019</td>\n",
              "      <td>11</td>\n",
              "      <td>2</td>\n",
              "    </tr>\n",
              "    <tr>\n",
              "      <th>4</th>\n",
              "      <td>190319695</td>\n",
              "      <td>2019-08-30</td>\n",
              "      <td>2019-08-30</td>\n",
              "      <td>2100</td>\n",
              "      <td>3</td>\n",
              "      <td>Southwest</td>\n",
              "      <td>374</td>\n",
              "      <td>997</td>\n",
              "      <td>TRAFFIC COLLISION</td>\n",
              "      <td>0605 4025 3037 3004 3025 3101</td>\n",
              "      <td>49.0</td>\n",
              "      <td>M</td>\n",
              "      <td>B</td>\n",
              "      <td>101.0</td>\n",
              "      <td>STREET</td>\n",
              "      <td>MARTIN LUTHER KING JR</td>\n",
              "      <td>ARLINGTON                    AV</td>\n",
              "      <td>(34.0108, -118.3182)</td>\n",
              "      <td>2019</td>\n",
              "      <td>8</td>\n",
              "      <td>4</td>\n",
              "    </tr>\n",
              "  </tbody>\n",
              "</table>\n",
              "</div>"
            ],
            "text/plain": [
              "   DR Number Date Reported Date Occurred  ...  year  month weekday\n",
              "0  190319651    2019-08-24    2019-08-24  ...  2019      8       5\n",
              "1  190319680    2019-08-30    2019-08-30  ...  2019      8       4\n",
              "2  190413769    2019-08-25    2019-08-25  ...  2019      8       6\n",
              "3  190127578    2019-11-20    2019-11-20  ...  2019     11       2\n",
              "4  190319695    2019-08-30    2019-08-30  ...  2019      8       4\n",
              "\n",
              "[5 rows x 21 columns]"
            ]
          },
          "metadata": {
            "tags": []
          },
          "execution_count": 7
        }
      ]
    },
    {
      "cell_type": "code",
      "metadata": {
        "colab": {
          "base_uri": "https://localhost:8080/"
        },
        "id": "QIBbyfciPgeh",
        "outputId": "1a080585-58ca-4c2b-b969-33a1bf005497"
      },
      "source": [
        "data['Victim Age'].isnull().sum()/len(data['Victim Age'])"
      ],
      "execution_count": null,
      "outputs": [
        {
          "output_type": "execute_result",
          "data": {
            "text/plain": [
              "0.14814418305041688"
            ]
          },
          "metadata": {
            "tags": []
          },
          "execution_count": 10
        }
      ]
    },
    {
      "cell_type": "code",
      "metadata": {
        "colab": {
          "base_uri": "https://localhost:8080/"
        },
        "id": "fWBZVNGKPggx",
        "outputId": "f9428236-558e-42b7-e479-bacbe81e0230"
      },
      "source": [
        "data['Premise Code'].isnull().sum()/len(data['Premise Code'])"
      ],
      "execution_count": null,
      "outputs": [
        {
          "output_type": "execute_result",
          "data": {
            "text/plain": [
              "0.0017546565536513006"
            ]
          },
          "metadata": {
            "tags": []
          },
          "execution_count": 11
        }
      ]
    },
    {
      "cell_type": "code",
      "metadata": {
        "colab": {
          "base_uri": "https://localhost:8080/"
        },
        "id": "wSUj0_4HPgk7",
        "outputId": "a57bdc67-d64b-4c49-fa51-0d1bc7517a01"
      },
      "source": [
        "data['Victim Sex'].isnull().sum()/len(data['Victim Sex'])"
      ],
      "execution_count": null,
      "outputs": [
        {
          "output_type": "execute_result",
          "data": {
            "text/plain": [
              "0.01572477114161548"
            ]
          },
          "metadata": {
            "tags": []
          },
          "execution_count": 12
        }
      ]
    },
    {
      "cell_type": "code",
      "metadata": {
        "colab": {
          "base_uri": "https://localhost:8080/"
        },
        "id": "EIQpwWb9Pgoe",
        "outputId": "6d9ffa89-301d-48cf-c294-1768be500881"
      },
      "source": [
        "data['MO Codes'].isnull().sum()/len(data['MO Codes'])"
      ],
      "execution_count": null,
      "outputs": [
        {
          "output_type": "execute_result",
          "data": {
            "text/plain": [
              "0.16001669373349905"
            ]
          },
          "metadata": {
            "tags": []
          },
          "execution_count": 13
        }
      ]
    },
    {
      "cell_type": "code",
      "metadata": {
        "colab": {
          "base_uri": "https://localhost:8080/"
        },
        "id": "0E4Kg7tHPgsS",
        "outputId": "79aeda91-448b-4e4e-a088-0a7b325b4f08"
      },
      "source": [
        "data['Cross Street'].isnull().sum()/len(data['Cross Street'])"
      ],
      "execution_count": null,
      "outputs": [
        {
          "output_type": "execute_result",
          "data": {
            "text/plain": [
              "0.04786565173605756"
            ]
          },
          "metadata": {
            "tags": []
          },
          "execution_count": 14
        }
      ]
    },
    {
      "cell_type": "code",
      "metadata": {
        "colab": {
          "base_uri": "https://localhost:8080/"
        },
        "id": "PFHvJG3xV0Dp",
        "outputId": "398e744b-7d62-468f-986d-6d99926120b6"
      },
      "source": [
        "data['Victim Descent'].isnull().sum()/len(data['Victim Descent'])"
      ],
      "execution_count": null,
      "outputs": [
        {
          "output_type": "execute_result",
          "data": {
            "text/plain": [
              "0.0172889013890275"
            ]
          },
          "metadata": {
            "tags": []
          },
          "execution_count": 15
        }
      ]
    },
    {
      "cell_type": "markdown",
      "metadata": {
        "id": "OFU_xrx_AD8P"
      },
      "source": [
        "**EDA**"
      ]
    },
    {
      "cell_type": "code",
      "metadata": {
        "colab": {
          "base_uri": "https://localhost:8080/",
          "height": 530
        },
        "id": "5Gy2WxKSV0Mk",
        "outputId": "80fdbfb0-6c68-4a1e-aef1-e7e8748e875c"
      },
      "source": [
        "plt.subplots(figsize = (12,8))\r\n",
        "sns.countplot(data = data,x = \"year\",palette='bright')\r\n",
        "plt.title(\"Year wise data\")"
      ],
      "execution_count": null,
      "outputs": [
        {
          "output_type": "execute_result",
          "data": {
            "text/plain": [
              "Text(0.5, 1.0, 'Year wise data')"
            ]
          },
          "metadata": {
            "tags": []
          },
          "execution_count": 18
        },
        {
          "output_type": "display_data",
          "data": {
            "image/png": "[encoded data removed]",
            "text/plain": [
              "<Figure size 864x576 with 1 Axes>"
            ]
          },
          "metadata": {
            "tags": [],
            "needs_background": "light"
          }
        }
      ]
    },
    {
      "cell_type": "code",
      "metadata": {
        "colab": {
          "base_uri": "https://localhost:8080/",
          "height": 714
        },
        "id": "qdCJ_5LeV0Pe",
        "outputId": "f87fda93-8071-4d49-86ec-194dec79887c"
      },
      "source": [
        "plt.subplots(figsize = (12,8))\r\n",
        "mm = sns.countplot(data = data,x = \"month\",palette='bright')\r\n",
        "plt.title(\"Month wise data\")\r\n",
        "mm.set_xticklabels([\"January\", \"February\", \"March\", \"April\", \"May\", \"June\", \"July\",\"August\",\"September\",\"October\",\"November\",\"December\"], fontsize=9)"
      ],
      "execution_count": null,
      "outputs": [
        {
          "output_type": "execute_result",
          "data": {
            "text/plain": [
              "[Text(0, 0, 'January'),\n",
              " Text(0, 0, 'February'),\n",
              " Text(0, 0, 'March'),\n",
              " Text(0, 0, 'April'),\n",
              " Text(0, 0, 'May'),\n",
              " Text(0, 0, 'June'),\n",
              " Text(0, 0, 'July'),\n",
              " Text(0, 0, 'August'),\n",
              " Text(0, 0, 'September'),\n",
              " Text(0, 0, 'October'),\n",
              " Text(0, 0, 'November'),\n",
              " Text(0, 0, 'December')]"
            ]
          },
          "metadata": {
            "tags": []
          },
          "execution_count": 19
        },
        {
          "output_type": "display_data",
          "data": {
            "image/png": "[encoded data removed]",
            "text/plain": [
              "<Figure size 864x576 with 1 Axes>"
            ]
          },
          "metadata": {
            "tags": [],
            "needs_background": "light"
          }
        }
      ]
    },
    {
      "cell_type": "code",
      "metadata": {
        "colab": {
          "base_uri": "https://localhost:8080/",
          "height": 530
        },
        "id": "BmrtF1L1V0Sx",
        "outputId": "bd7d00ca-8d0b-4df2-cf67-c4bf03deb425"
      },
      "source": [
        "plt.subplots(figsize = (12,8))\r\n",
        "mm = sns.countplot(data = data,x = \"Victim Sex\",palette='bright')\r\n",
        "plt.title(\"Victim sex  wise data\")"
      ],
      "execution_count": null,
      "outputs": [
        {
          "output_type": "execute_result",
          "data": {
            "text/plain": [
              "Text(0.5, 1.0, 'Victim sex  wise data')"
            ]
          },
          "metadata": {
            "tags": []
          },
          "execution_count": 20
        },
        {
          "output_type": "display_data",
          "data": {
            "image/png": "[encoded data removed]",
            "text/plain": [
              "<Figure size 864x576 with 1 Axes>"
            ]
          },
          "metadata": {
            "tags": [],
            "needs_background": "light"
          }
        }
      ]
    },
    {
      "cell_type": "code",
      "metadata": {
        "colab": {
          "base_uri": "https://localhost:8080/",
          "height": 530
        },
        "id": "QaXJjeNPV0XD",
        "outputId": "d5951f1c-1814-40b0-890e-d54368e71741"
      },
      "source": [
        "plt.subplots(figsize = (12,8))\r\n",
        "mm = sns.countplot(data = data,x = \"Victim Descent\",palette='bright')\r\n",
        "plt.title(\"Victim Descent  wise data\")"
      ],
      "execution_count": null,
      "outputs": [
        {
          "output_type": "execute_result",
          "data": {
            "text/plain": [
              "Text(0.5, 1.0, 'Victim Descent  wise data')"
            ]
          },
          "metadata": {
            "tags": []
          },
          "execution_count": 21
        },
        {
          "output_type": "display_data",
          "data": {
            "image/png": "[encoded data removed]",
            "text/plain": [
              "<Figure size 864x576 with 1 Axes>"
            ]
          },
          "metadata": {
            "tags": [],
            "needs_background": "light"
          }
        }
      ]
    },
    {
      "cell_type": "code",
      "metadata": {
        "colab": {
          "base_uri": "https://localhost:8080/",
          "height": 747
        },
        "id": "1POuJYyoV0aP",
        "outputId": "ebe41e13-b65b-4d2d-98cb-0ef977f8a2eb"
      },
      "source": [
        "plt.subplots(figsize = (20,12))\r\n",
        "mm = sns.countplot(data = data,x = \"Area Name\",palette='bright')\r\n",
        "plt.title(\"AREA  wise data\")"
      ],
      "execution_count": null,
      "outputs": [
        {
          "output_type": "execute_result",
          "data": {
            "text/plain": [
              "Text(0.5, 1.0, 'AREA  wise data')"
            ]
          },
          "metadata": {
            "tags": []
          },
          "execution_count": 23
        },
        {
          "output_type": "display_data",
          "data": {
            "image/png": "[encoded data removed]",
            "text/plain": [
              "<Figure size 1440x864 with 1 Axes>"
            ]
          },
          "metadata": {
            "tags": [],
            "needs_background": "light"
          }
        }
      ]
    },
    {
      "cell_type": "code",
      "metadata": {
        "colab": {
          "base_uri": "https://localhost:8080/",
          "height": 630
        },
        "id": "EaFQ5pBn0o1S",
        "outputId": "7272b4ee-8a6c-4962-d48b-5c7e4af607da"
      },
      "source": [
        "plt.subplots(figsize = (12,8))\r\n",
        "dd = sns.countplot(data = data,x = \"weekday\",palette='bright')\r\n",
        "plt.title(\"Weekday wise data\")\r\n",
        "dd.set_xticklabels([\"Monday\", \"Tuesday\", \"Wednesday\", \"Thursday\", \"Friday\", \"Saturday\", \"Sunday\"], fontsize=9)"
      ],
      "execution_count": null,
      "outputs": [
        {
          "output_type": "execute_result",
          "data": {
            "text/plain": [
              "[Text(0, 0, 'Monday'),\n",
              " Text(0, 0, 'Tuesday'),\n",
              " Text(0, 0, 'Wednesday'),\n",
              " Text(0, 0, 'Thursday'),\n",
              " Text(0, 0, 'Friday'),\n",
              " Text(0, 0, 'Saturday'),\n",
              " Text(0, 0, 'Sunday')]"
            ]
          },
          "metadata": {
            "tags": []
          },
          "execution_count": 24
        },
        {
          "output_type": "display_data",
          "data": {
            "image/png": "[encoded data removed]",
            "text/plain": [
              "<Figure size 864x576 with 1 Axes>"
            ]
          },
          "metadata": {
            "tags": [],
            "needs_background": "light"
          }
        }
      ]
    },
    {
      "cell_type": "code",
      "metadata": {
        "colab": {
          "base_uri": "https://localhost:8080/",
          "height": 746
        },
        "id": "-_SBe8rCmnLV",
        "outputId": "7717f7a1-c6db-4215-8776-9d271f9f2dad"
      },
      "source": [
        "plt.subplots(figsize = (24,12))\r\n",
        "aa = sns.countplot(data = data,x = \"Victim Age\",palette='bright')\r\n",
        "plt.title(\"Age  wise data\")"
      ],
      "execution_count": null,
      "outputs": [
        {
          "output_type": "execute_result",
          "data": {
            "text/plain": [
              "Text(0.5, 1.0, 'Age  wise data')"
            ]
          },
          "metadata": {
            "tags": []
          },
          "execution_count": 25
        },
        {
          "output_type": "display_data",
          "data": {
            "image/png": "[encoded data removed]",
            "text/plain": [
              "<Figure size 1728x864 with 1 Axes>"
            ]
          },
          "metadata": {
            "tags": [],
            "needs_background": "light"
          }
        }
      ]
    },
    {
      "cell_type": "code",
      "metadata": {
        "id": "3E_811-_pUef"
      },
      "source": [
        "data['hour'] = data['Time Occurred']//100\r\n"
      ],
      "execution_count": null,
      "outputs": []
    },
    {
      "cell_type": "code",
      "metadata": {
        "colab": {
          "base_uri": "https://localhost:8080/",
          "height": 530
        },
        "id": "b9YemsYIpUhd",
        "outputId": "5db88bc1-b19a-4860-beef-82f5ef506a49"
      },
      "source": [
        "plt.subplots(figsize = (12,8))\r\n",
        "mm = sns.countplot(data = data,x = \"hour\",palette='bright')\r\n",
        "plt.title(\"Time occured  wise data\")"
      ],
      "execution_count": null,
      "outputs": [
        {
          "output_type": "execute_result",
          "data": {
            "text/plain": [
              "Text(0.5, 1.0, 'Time occured  wise data')"
            ]
          },
          "metadata": {
            "tags": []
          },
          "execution_count": 27
        },
        {
          "output_type": "display_data",
          "data": {
            "image/png": "[encoded data removed]",
            "text/plain": [
              "<Figure size 864x576 with 1 Axes>"
            ]
          },
          "metadata": {
            "tags": [],
            "needs_background": "light"
          }
        }
      ]
    },
    {
      "cell_type": "code",
      "metadata": {
        "id": "GO1yjdgjwQfD"
      },
      "source": [
        "data['time taken'] = data['Date Reported'] - data['Date Occurred']"
      ],
      "execution_count": null,
      "outputs": []
    },
    {
      "cell_type": "code",
      "metadata": {
        "colab": {
          "base_uri": "https://localhost:8080/"
        },
        "id": "61OkAq6NyYtq",
        "outputId": "6bdb2526-5968-43f4-b3b8-a3860ea2f802"
      },
      "source": [
        "data['time taken'].describe()"
      ],
      "execution_count": null,
      "outputs": [
        {
          "output_type": "execute_result",
          "data": {
            "text/plain": [
              "count                        551105\n",
              "mean      2 days 06:05:40.948458097\n",
              "std      33 days 21:55:56.682153535\n",
              "min                 0 days 00:00:00\n",
              "25%                 0 days 00:00:00\n",
              "50%                 0 days 00:00:00\n",
              "75%                 1 days 00:00:00\n",
              "max              3662 days 00:00:00\n",
              "Name: time taken, dtype: object"
            ]
          },
          "metadata": {
            "tags": []
          },
          "execution_count": 29
        }
      ]
    },
    {
      "cell_type": "code",
      "metadata": {
        "id": "K3Lx4IfQwQi9",
        "colab": {
          "base_uri": "https://localhost:8080/"
        },
        "outputId": "c981f587-e02b-43d9-d0a4-c2cab80e197c"
      },
      "source": [
        "data['time taken']"
      ],
      "execution_count": null,
      "outputs": [
        {
          "output_type": "execute_result",
          "data": {
            "text/plain": [
              "0        0 days\n",
              "1        0 days\n",
              "2        0 days\n",
              "3        0 days\n",
              "4        0 days\n",
              "          ...  \n",
              "551100   0 days\n",
              "551101   0 days\n",
              "551102   0 days\n",
              "551103   0 days\n",
              "551104   1 days\n",
              "Name: time taken, Length: 551105, dtype: timedelta64[ns]"
            ]
          },
          "metadata": {
            "tags": []
          },
          "execution_count": 30
        }
      ]
    },
    {
      "cell_type": "markdown",
      "metadata": {
        "id": "wVs0nZqoAKmf"
      },
      "source": [
        "**Create Target column**"
      ]
    },
    {
      "cell_type": "code",
      "metadata": {
        "id": "C3vw_0S1nWr4"
      },
      "source": [
        "data1=data[['DR Number', 'Date Reported', 'Date Occurred', 'Time Occurred','Area ID']]"
      ],
      "execution_count": null,
      "outputs": []
    },
    {
      "cell_type": "code",
      "metadata": {
        "colab": {
          "base_uri": "https://localhost:8080/",
          "height": 195
        },
        "id": "tXERm-e3nZyn",
        "outputId": "ec3e959c-06d9-4ea2-e381-b44a970258c4"
      },
      "source": [
        "data1.head()"
      ],
      "execution_count": null,
      "outputs": [
        {
          "output_type": "execute_result",
          "data": {
            "text/html": [
              "<div>\n",
              "<style scoped>\n",
              "    .dataframe tbody tr th:only-of-type {\n",
              "        vertical-align: middle;\n",
              "    }\n",
              "\n",
              "    .dataframe tbody tr th {\n",
              "        vertical-align: top;\n",
              "    }\n",
              "\n",
              "    .dataframe thead th {\n",
              "        text-align: right;\n",
              "    }\n",
              "</style>\n",
              "<table border=\"1\" class=\"dataframe\">\n",
              "  <thead>\n",
              "    <tr style=\"text-align: right;\">\n",
              "      <th></th>\n",
              "      <th>DR Number</th>\n",
              "      <th>Date Reported</th>\n",
              "      <th>Date Occurred</th>\n",
              "      <th>Time Occurred</th>\n",
              "      <th>Area ID</th>\n",
              "    </tr>\n",
              "  </thead>\n",
              "  <tbody>\n",
              "    <tr>\n",
              "      <th>0</th>\n",
              "      <td>190319651</td>\n",
              "      <td>2019-08-24</td>\n",
              "      <td>2019-08-24</td>\n",
              "      <td>450</td>\n",
              "      <td>3</td>\n",
              "    </tr>\n",
              "    <tr>\n",
              "      <th>1</th>\n",
              "      <td>190319680</td>\n",
              "      <td>2019-08-30</td>\n",
              "      <td>2019-08-30</td>\n",
              "      <td>2320</td>\n",
              "      <td>3</td>\n",
              "    </tr>\n",
              "    <tr>\n",
              "      <th>2</th>\n",
              "      <td>190413769</td>\n",
              "      <td>2019-08-25</td>\n",
              "      <td>2019-08-25</td>\n",
              "      <td>545</td>\n",
              "      <td>4</td>\n",
              "    </tr>\n",
              "    <tr>\n",
              "      <th>3</th>\n",
              "      <td>190127578</td>\n",
              "      <td>2019-11-20</td>\n",
              "      <td>2019-11-20</td>\n",
              "      <td>350</td>\n",
              "      <td>1</td>\n",
              "    </tr>\n",
              "    <tr>\n",
              "      <th>4</th>\n",
              "      <td>190319695</td>\n",
              "      <td>2019-08-30</td>\n",
              "      <td>2019-08-30</td>\n",
              "      <td>2100</td>\n",
              "      <td>3</td>\n",
              "    </tr>\n",
              "  </tbody>\n",
              "</table>\n",
              "</div>"
            ],
            "text/plain": [
              "   DR Number Date Reported Date Occurred  Time Occurred  Area ID\n",
              "0  190319651    2019-08-24    2019-08-24            450        3\n",
              "1  190319680    2019-08-30    2019-08-30           2320        3\n",
              "2  190413769    2019-08-25    2019-08-25            545        4\n",
              "3  190127578    2019-11-20    2019-11-20            350        1\n",
              "4  190319695    2019-08-30    2019-08-30           2100        3"
            ]
          },
          "metadata": {
            "tags": []
          },
          "execution_count": 51
        }
      ]
    },
    {
      "cell_type": "code",
      "metadata": {
        "colab": {
          "base_uri": "https://localhost:8080/",
          "height": 464
        },
        "id": "Yv_62HwhnbbG",
        "outputId": "74027d14-465e-4464-b170-30a9e0475e5f"
      },
      "source": [
        "data1['year'] = pd.DatetimeIndex(data1['Date Occurred']).year\r\n",
        "data1['month'] = pd.DatetimeIndex(data1['Date Occurred']).month\r\n",
        "data1.head()"
      ],
      "execution_count": null,
      "outputs": [
        {
          "output_type": "stream",
          "text": [
            "/usr/local/lib/python3.6/dist-packages/ipykernel_launcher.py:1: SettingWithCopyWarning:\n",
            "\n",
            "\n",
            "A value is trying to be set on a copy of a slice from a DataFrame.\n",
            "Try using .loc[row_indexer,col_indexer] = value instead\n",
            "\n",
            "See the caveats in the documentation: https://pandas.pydata.org/pandas-docs/stable/user_guide/indexing.html#returning-a-view-versus-a-copy\n",
            "\n",
            "/usr/local/lib/python3.6/dist-packages/ipykernel_launcher.py:2: SettingWithCopyWarning:\n",
            "\n",
            "\n",
            "A value is trying to be set on a copy of a slice from a DataFrame.\n",
            "Try using .loc[row_indexer,col_indexer] = value instead\n",
            "\n",
            "See the caveats in the documentation: https://pandas.pydata.org/pandas-docs/stable/user_guide/indexing.html#returning-a-view-versus-a-copy\n",
            "\n"
          ],
          "name": "stderr"
        },
        {
          "output_type": "execute_result",
          "data": {
            "text/html": [
              "<div>\n",
              "<style scoped>\n",
              "    .dataframe tbody tr th:only-of-type {\n",
              "        vertical-align: middle;\n",
              "    }\n",
              "\n",
              "    .dataframe tbody tr th {\n",
              "        vertical-align: top;\n",
              "    }\n",
              "\n",
              "    .dataframe thead th {\n",
              "        text-align: right;\n",
              "    }\n",
              "</style>\n",
              "<table border=\"1\" class=\"dataframe\">\n",
              "  <thead>\n",
              "    <tr style=\"text-align: right;\">\n",
              "      <th></th>\n",
              "      <th>DR Number</th>\n",
              "      <th>Date Reported</th>\n",
              "      <th>Date Occurred</th>\n",
              "      <th>Time Occurred</th>\n",
              "      <th>Area ID</th>\n",
              "      <th>year</th>\n",
              "      <th>month</th>\n",
              "    </tr>\n",
              "  </thead>\n",
              "  <tbody>\n",
              "    <tr>\n",
              "      <th>0</th>\n",
              "      <td>190319651</td>\n",
              "      <td>2019-08-24</td>\n",
              "      <td>2019-08-24</td>\n",
              "      <td>450</td>\n",
              "      <td>3</td>\n",
              "      <td>2019</td>\n",
              "      <td>8</td>\n",
              "    </tr>\n",
              "    <tr>\n",
              "      <th>1</th>\n",
              "      <td>190319680</td>\n",
              "      <td>2019-08-30</td>\n",
              "      <td>2019-08-30</td>\n",
              "      <td>2320</td>\n",
              "      <td>3</td>\n",
              "      <td>2019</td>\n",
              "      <td>8</td>\n",
              "    </tr>\n",
              "    <tr>\n",
              "      <th>2</th>\n",
              "      <td>190413769</td>\n",
              "      <td>2019-08-25</td>\n",
              "      <td>2019-08-25</td>\n",
              "      <td>545</td>\n",
              "      <td>4</td>\n",
              "      <td>2019</td>\n",
              "      <td>8</td>\n",
              "    </tr>\n",
              "    <tr>\n",
              "      <th>3</th>\n",
              "      <td>190127578</td>\n",
              "      <td>2019-11-20</td>\n",
              "      <td>2019-11-20</td>\n",
              "      <td>350</td>\n",
              "      <td>1</td>\n",
              "      <td>2019</td>\n",
              "      <td>11</td>\n",
              "    </tr>\n",
              "    <tr>\n",
              "      <th>4</th>\n",
              "      <td>190319695</td>\n",
              "      <td>2019-08-30</td>\n",
              "      <td>2019-08-30</td>\n",
              "      <td>2100</td>\n",
              "      <td>3</td>\n",
              "      <td>2019</td>\n",
              "      <td>8</td>\n",
              "    </tr>\n",
              "  </tbody>\n",
              "</table>\n",
              "</div>"
            ],
            "text/plain": [
              "   DR Number Date Reported Date Occurred  Time Occurred  Area ID  year  month\n",
              "0  190319651    2019-08-24    2019-08-24            450        3  2019      8\n",
              "1  190319680    2019-08-30    2019-08-30           2320        3  2019      8\n",
              "2  190413769    2019-08-25    2019-08-25            545        4  2019      8\n",
              "3  190127578    2019-11-20    2019-11-20            350        1  2019     11\n",
              "4  190319695    2019-08-30    2019-08-30           2100        3  2019      8"
            ]
          },
          "metadata": {
            "tags": []
          },
          "execution_count": 52
        }
      ]
    },
    {
      "cell_type": "code",
      "metadata": {
        "id": "Ajjl4nuOVXgd"
      },
      "source": [
        "train_data = data1.groupby('Date Occurred')['DR Number'].count()"
      ],
      "execution_count": null,
      "outputs": []
    },
    {
      "cell_type": "code",
      "metadata": {
        "colab": {
          "base_uri": "https://localhost:8080/"
        },
        "id": "12kpPMupVXjo",
        "outputId": "c4601374-27cb-4887-ff2a-50960e9f12c4"
      },
      "source": [
        "train_data.head()"
      ],
      "execution_count": null,
      "outputs": [
        {
          "output_type": "execute_result",
          "data": {
            "text/plain": [
              "Date Occurred\n",
              "2010-01-01    122\n",
              "2010-01-02     79\n",
              "2010-01-03     99\n",
              "2010-01-04    102\n",
              "2010-01-05    112\n",
              "Name: DR Number, dtype: int64"
            ]
          },
          "metadata": {
            "tags": []
          },
          "execution_count": 54
        }
      ]
    },
    {
      "cell_type": "code",
      "metadata": {
        "id": "FdoOnXlhVXm4"
      },
      "source": [
        "train_data = pd.DataFrame(train_data)"
      ],
      "execution_count": null,
      "outputs": []
    },
    {
      "cell_type": "code",
      "metadata": {
        "colab": {
          "base_uri": "https://localhost:8080/"
        },
        "id": "8TUjITLcVwEl",
        "outputId": "4b8d7e15-a7bf-446e-f64b-6d90bda0110e"
      },
      "source": [
        "train_data.info()"
      ],
      "execution_count": null,
      "outputs": [
        {
          "output_type": "stream",
          "text": [
            "<class 'pandas.core.frame.DataFrame'>\n",
            "DatetimeIndex: 4027 entries, 2010-01-01 to 2021-01-09\n",
            "Data columns (total 1 columns):\n",
            " #   Column     Non-Null Count  Dtype\n",
            "---  ------     --------------  -----\n",
            " 0   DR Number  4027 non-null   int64\n",
            "dtypes: int64(1)\n",
            "memory usage: 62.9 KB\n"
          ],
          "name": "stdout"
        }
      ]
    },
    {
      "cell_type": "code",
      "metadata": {
        "colab": {
          "base_uri": "https://localhost:8080/",
          "height": 431
        },
        "id": "6v8Ejxp5V9hs",
        "outputId": "7e2011cf-45b4-4c12-fa25-15cbe075b317"
      },
      "source": [
        "train_data = train_data.rename(columns={'DR Number':'Collision'})\r\n",
        "train_data"
      ],
      "execution_count": null,
      "outputs": [
        {
          "output_type": "execute_result",
          "data": {
            "text/html": [
              "<div>\n",
              "<style scoped>\n",
              "    .dataframe tbody tr th:only-of-type {\n",
              "        vertical-align: middle;\n",
              "    }\n",
              "\n",
              "    .dataframe tbody tr th {\n",
              "        vertical-align: top;\n",
              "    }\n",
              "\n",
              "    .dataframe thead th {\n",
              "        text-align: right;\n",
              "    }\n",
              "</style>\n",
              "<table border=\"1\" class=\"dataframe\">\n",
              "  <thead>\n",
              "    <tr style=\"text-align: right;\">\n",
              "      <th></th>\n",
              "      <th>Collision</th>\n",
              "    </tr>\n",
              "    <tr>\n",
              "      <th>Date Occurred</th>\n",
              "      <th></th>\n",
              "    </tr>\n",
              "  </thead>\n",
              "  <tbody>\n",
              "    <tr>\n",
              "      <th>2010-01-01</th>\n",
              "      <td>122</td>\n",
              "    </tr>\n",
              "    <tr>\n",
              "      <th>2010-01-02</th>\n",
              "      <td>79</td>\n",
              "    </tr>\n",
              "    <tr>\n",
              "      <th>2010-01-03</th>\n",
              "      <td>99</td>\n",
              "    </tr>\n",
              "    <tr>\n",
              "      <th>2010-01-04</th>\n",
              "      <td>102</td>\n",
              "    </tr>\n",
              "    <tr>\n",
              "      <th>2010-01-05</th>\n",
              "      <td>112</td>\n",
              "    </tr>\n",
              "    <tr>\n",
              "      <th>...</th>\n",
              "      <td>...</td>\n",
              "    </tr>\n",
              "    <tr>\n",
              "      <th>2021-01-05</th>\n",
              "      <td>72</td>\n",
              "    </tr>\n",
              "    <tr>\n",
              "      <th>2021-01-06</th>\n",
              "      <td>74</td>\n",
              "    </tr>\n",
              "    <tr>\n",
              "      <th>2021-01-07</th>\n",
              "      <td>69</td>\n",
              "    </tr>\n",
              "    <tr>\n",
              "      <th>2021-01-08</th>\n",
              "      <td>64</td>\n",
              "    </tr>\n",
              "    <tr>\n",
              "      <th>2021-01-09</th>\n",
              "      <td>24</td>\n",
              "    </tr>\n",
              "  </tbody>\n",
              "</table>\n",
              "<p>4027 rows × 1 columns</p>\n",
              "</div>"
            ],
            "text/plain": [
              "               Collision\n",
              "Date Occurred           \n",
              "2010-01-01           122\n",
              "2010-01-02            79\n",
              "2010-01-03            99\n",
              "2010-01-04           102\n",
              "2010-01-05           112\n",
              "...                  ...\n",
              "2021-01-05            72\n",
              "2021-01-06            74\n",
              "2021-01-07            69\n",
              "2021-01-08            64\n",
              "2021-01-09            24\n",
              "\n",
              "[4027 rows x 1 columns]"
            ]
          },
          "metadata": {
            "tags": []
          },
          "execution_count": 57
        }
      ]
    },
    {
      "cell_type": "code",
      "metadata": {
        "id": "nm67gID6V9kw"
      },
      "source": [
        "total_90mva = train_data['Collision'].rolling(window=90).mean()"
      ],
      "execution_count": null,
      "outputs": []
    },
    {
      "cell_type": "code",
      "metadata": {
        "id": "aL2dQtx_V9oE"
      },
      "source": [
        "total_180mva = train_data['Collision'].rolling(window=180).mean()"
      ],
      "execution_count": null,
      "outputs": []
    },
    {
      "cell_type": "code",
      "metadata": {
        "id": "jIUn_hZAV9vB"
      },
      "source": [
        "ema= train_data['Collision'].ewm(span=90,adjust=False).mean()"
      ],
      "execution_count": null,
      "outputs": []
    },
    {
      "cell_type": "code",
      "metadata": {
        "id": "kGN0mOX8VwLd"
      },
      "source": [
        "test_180 = total_180mva[3662:4027]\r\n",
        "test_90  = total_90mva[3662:4027]"
      ],
      "execution_count": null,
      "outputs": []
    },
    {
      "cell_type": "code",
      "metadata": {
        "id": "pWskxQl7z_VP"
      },
      "source": [
        "test_data = train_data[3662:4027]"
      ],
      "execution_count": null,
      "outputs": []
    },
    {
      "cell_type": "code",
      "metadata": {
        "id": "5tIpj21RztBF"
      },
      "source": [
        "from sklearn.metrics import mean_squared_error"
      ],
      "execution_count": null,
      "outputs": []
    },
    {
      "cell_type": "code",
      "metadata": {
        "colab": {
          "base_uri": "https://localhost:8080/"
        },
        "id": "wzEjifW2zoee",
        "outputId": "d53b54f1-9af3-4e7a-9981-0bd51cc1bf0f"
      },
      "source": [
        "np.sqrt(mean_squared_error(test_data,test_90))"
      ],
      "execution_count": null,
      "outputs": [
        {
          "output_type": "execute_result",
          "data": {
            "text/plain": [
              "26.252737784153826"
            ]
          },
          "metadata": {
            "tags": []
          },
          "execution_count": 68
        }
      ]
    },
    {
      "cell_type": "code",
      "metadata": {
        "colab": {
          "base_uri": "https://localhost:8080/"
        },
        "id": "3FI7EZd7zoiK",
        "outputId": "f479fa2d-120b-4522-ab1c-9eb09a373e0d"
      },
      "source": [
        "np.sqrt(mean_squared_error(test_data,test_180))"
      ],
      "execution_count": null,
      "outputs": [
        {
          "output_type": "execute_result",
          "data": {
            "text/plain": [
              "30.735701354132534"
            ]
          },
          "metadata": {
            "tags": []
          },
          "execution_count": 69
        }
      ]
    },
    {
      "cell_type": "code",
      "metadata": {
        "id": "F-lJQ9WgVwOR"
      },
      "source": [
        "# H0 : Data has unit root and it is non stationary\r\n",
        "# H1 : Data has no unit root and it is stationary\r\n",
        "from statsmodels.tsa.stattools import adfuller\r\n",
        "test_result=adfuller(train_data['Collision'])\r\n",
        "def adfuller_test(No_of_Collisions):\r\n",
        "    result=adfuller(No_of_Collisions)\r\n",
        "    labels = ['ADF Test Statistic','p-value','#Lags Used','Number of Observations Used']\r\n",
        "    for value,label in zip(result,labels):\r\n",
        "        print(label+' : '+str(value) )\r\n",
        "    if result[1] <= 0.05:\r\n",
        "        print(\"strong evidence for the null hypothesis, reject the null hypothesis. Data has no unit root and is stationary\")\r\n",
        "    else:\r\n",
        "        print(\"weak evidence against null hypothesis, time series has a unit root, indicating it is non-stationary \")"
      ],
      "execution_count": null,
      "outputs": []
    },
    {
      "cell_type": "code",
      "metadata": {
        "id": "Sl-XCk9KVwRL",
        "colab": {
          "base_uri": "https://localhost:8080/"
        },
        "outputId": "37424bb2-ddfd-4772-e179-c5031f213c93"
      },
      "source": [
        "adfuller_test(train_data['Collision'])"
      ],
      "execution_count": null,
      "outputs": [
        {
          "output_type": "stream",
          "text": [
            "ADF Test Statistic : -2.8224983914637787\n",
            "p-value : 0.05513120393505728\n",
            "#Lags Used : 27\n",
            "Number of Observations Used : 3999\n",
            "weak evidence against null hypothesis, time series has a unit root, indicating it is non-stationary \n"
          ],
          "name": "stdout"
        }
      ]
    },
    {
      "cell_type": "code",
      "metadata": {
        "id": "kczX_iaM1H_9"
      },
      "source": [
        "train_data['first_diff']=train_data['Collision'].diff(1)"
      ],
      "execution_count": null,
      "outputs": []
    },
    {
      "cell_type": "code",
      "metadata": {
        "colab": {
          "base_uri": "https://localhost:8080/"
        },
        "id": "PJrSIK8-1IDC",
        "outputId": "f5b20a20-18f9-488a-e3b9-57bd5ea3b0ab"
      },
      "source": [
        "adfuller_test(train_data['first_diff'].dropna())"
      ],
      "execution_count": null,
      "outputs": [
        {
          "output_type": "stream",
          "text": [
            "ADF Test Statistic : -20.034661827014542\n",
            "p-value : 0.0\n",
            "#Lags Used : 26\n",
            "Number of Observations Used : 3999\n",
            "strong evidence for the null hypothesis, reject the null hypothesis. Data has no unit root and is stationary\n"
          ],
          "name": "stdout"
        }
      ]
    },
    {
      "cell_type": "code",
      "metadata": {
        "colab": {
          "base_uri": "https://localhost:8080/",
          "height": 281
        },
        "id": "t7UOdngq1IHe",
        "outputId": "bd8c9ff2-2163-4cd0-d65b-53855ed9251e"
      },
      "source": [
        "# Plot ACF to visualize the autocorrelation\r\n",
        "from statsmodels.graphics.tsaplots import plot_acf\r\n",
        "plot_acf(train_data['first_diff'].dropna());"
      ],
      "execution_count": null,
      "outputs": [
        {
          "output_type": "display_data",
          "data": {
            "image/png": "[encoded data removed]",
            "text/plain": [
              "<Figure size 432x288 with 1 Axes>"
            ]
          },
          "metadata": {
            "tags": [],
            "needs_background": "light"
          }
        }
      ]
    },
    {
      "cell_type": "code",
      "metadata": {
        "colab": {
          "base_uri": "https://localhost:8080/",
          "height": 281
        },
        "id": "qikWfEPo--C1",
        "outputId": "39232145-55d4-4753-f054-ae122ef4743b"
      },
      "source": [
        "from statsmodels.graphics.tsaplots import plot_pacf\r\n",
        "plot_pacf(train_data['first_diff'].dropna());"
      ],
      "execution_count": null,
      "outputs": [
        {
          "output_type": "display_data",
          "data": {
            "image/png": "[encoded data removed]",
            "text/plain": [
              "<Figure size 432x288 with 1 Axes>"
            ]
          },
          "metadata": {
            "tags": [],
            "needs_background": "light"
          }
        }
      ]
    },
    {
      "cell_type": "code",
      "metadata": {
        "id": "b9tRcqf9VwUF"
      },
      "source": [
        "#monthly data"
      ],
      "execution_count": null,
      "outputs": []
    },
    {
      "cell_type": "code",
      "metadata": {
        "colab": {
          "base_uri": "https://localhost:8080/",
          "height": 397
        },
        "id": "zNRbtBhwng-x",
        "outputId": "976d8be5-90da-434a-90dc-df30067d4715"
      },
      "source": [
        "data1['day']=1\r\n",
        "data1['Months']=pd.to_datetime(data1[['year', 'month','day']])\r\n",
        "data1.head()"
      ],
      "execution_count": null,
      "outputs": [
        {
          "output_type": "stream",
          "text": [
            "/usr/local/lib/python3.6/dist-packages/ipykernel_launcher.py:1: SettingWithCopyWarning: \n",
            "A value is trying to be set on a copy of a slice from a DataFrame.\n",
            "Try using .loc[row_indexer,col_indexer] = value instead\n",
            "\n",
            "See the caveats in the documentation: https://pandas.pydata.org/pandas-docs/stable/user_guide/indexing.html#returning-a-view-versus-a-copy\n",
            "  \"\"\"Entry point for launching an IPython kernel.\n",
            "/usr/local/lib/python3.6/dist-packages/ipykernel_launcher.py:2: SettingWithCopyWarning: \n",
            "A value is trying to be set on a copy of a slice from a DataFrame.\n",
            "Try using .loc[row_indexer,col_indexer] = value instead\n",
            "\n",
            "See the caveats in the documentation: https://pandas.pydata.org/pandas-docs/stable/user_guide/indexing.html#returning-a-view-versus-a-copy\n",
            "  \n"
          ],
          "name": "stderr"
        },
        {
          "output_type": "execute_result",
          "data": {
            "text/html": [
              "<div>\n",
              "<style scoped>\n",
              "    .dataframe tbody tr th:only-of-type {\n",
              "        vertical-align: middle;\n",
              "    }\n",
              "\n",
              "    .dataframe tbody tr th {\n",
              "        vertical-align: top;\n",
              "    }\n",
              "\n",
              "    .dataframe thead th {\n",
              "        text-align: right;\n",
              "    }\n",
              "</style>\n",
              "<table border=\"1\" class=\"dataframe\">\n",
              "  <thead>\n",
              "    <tr style=\"text-align: right;\">\n",
              "      <th></th>\n",
              "      <th>DR Number</th>\n",
              "      <th>Date Reported</th>\n",
              "      <th>Date Occurred</th>\n",
              "      <th>Time Occurred</th>\n",
              "      <th>Area ID</th>\n",
              "      <th>year</th>\n",
              "      <th>month</th>\n",
              "      <th>day</th>\n",
              "      <th>Months</th>\n",
              "    </tr>\n",
              "  </thead>\n",
              "  <tbody>\n",
              "    <tr>\n",
              "      <th>0</th>\n",
              "      <td>190319651</td>\n",
              "      <td>2019-08-24</td>\n",
              "      <td>2019-08-24</td>\n",
              "      <td>450</td>\n",
              "      <td>3</td>\n",
              "      <td>2019</td>\n",
              "      <td>8</td>\n",
              "      <td>1</td>\n",
              "      <td>2019-08-01</td>\n",
              "    </tr>\n",
              "    <tr>\n",
              "      <th>1</th>\n",
              "      <td>190319680</td>\n",
              "      <td>2019-08-30</td>\n",
              "      <td>2019-08-30</td>\n",
              "      <td>2320</td>\n",
              "      <td>3</td>\n",
              "      <td>2019</td>\n",
              "      <td>8</td>\n",
              "      <td>1</td>\n",
              "      <td>2019-08-01</td>\n",
              "    </tr>\n",
              "    <tr>\n",
              "      <th>2</th>\n",
              "      <td>190413769</td>\n",
              "      <td>2019-08-25</td>\n",
              "      <td>2019-08-25</td>\n",
              "      <td>545</td>\n",
              "      <td>4</td>\n",
              "      <td>2019</td>\n",
              "      <td>8</td>\n",
              "      <td>1</td>\n",
              "      <td>2019-08-01</td>\n",
              "    </tr>\n",
              "    <tr>\n",
              "      <th>3</th>\n",
              "      <td>190127578</td>\n",
              "      <td>2019-11-20</td>\n",
              "      <td>2019-11-20</td>\n",
              "      <td>350</td>\n",
              "      <td>1</td>\n",
              "      <td>2019</td>\n",
              "      <td>11</td>\n",
              "      <td>1</td>\n",
              "      <td>2019-11-01</td>\n",
              "    </tr>\n",
              "    <tr>\n",
              "      <th>4</th>\n",
              "      <td>190319695</td>\n",
              "      <td>2019-08-30</td>\n",
              "      <td>2019-08-30</td>\n",
              "      <td>2100</td>\n",
              "      <td>3</td>\n",
              "      <td>2019</td>\n",
              "      <td>8</td>\n",
              "      <td>1</td>\n",
              "      <td>2019-08-01</td>\n",
              "    </tr>\n",
              "  </tbody>\n",
              "</table>\n",
              "</div>"
            ],
            "text/plain": [
              "   DR Number Date Reported Date Occurred  ...  month  day     Months\n",
              "0  190319651    2019-08-24    2019-08-24  ...      8    1 2019-08-01\n",
              "1  190319680    2019-08-30    2019-08-30  ...      8    1 2019-08-01\n",
              "2  190413769    2019-08-25    2019-08-25  ...      8    1 2019-08-01\n",
              "3  190127578    2019-11-20    2019-11-20  ...     11    1 2019-11-01\n",
              "4  190319695    2019-08-30    2019-08-30  ...      8    1 2019-08-01\n",
              "\n",
              "[5 rows x 9 columns]"
            ]
          },
          "metadata": {
            "tags": []
          },
          "execution_count": 20
        }
      ]
    },
    {
      "cell_type": "code",
      "metadata": {
        "colab": {
          "base_uri": "https://localhost:8080/",
          "height": 279
        },
        "id": "3qyki-TFni2d",
        "outputId": "bc2379bd-817f-44e3-bc01-841917d08cb9"
      },
      "source": [
        "data1.drop(['year', 'month','day'], axis=1, inplace=True)\r\n",
        "data1.head()"
      ],
      "execution_count": null,
      "outputs": [
        {
          "output_type": "stream",
          "text": [
            "/usr/local/lib/python3.6/dist-packages/pandas/core/frame.py:4174: SettingWithCopyWarning: \n",
            "A value is trying to be set on a copy of a slice from a DataFrame\n",
            "\n",
            "See the caveats in the documentation: https://pandas.pydata.org/pandas-docs/stable/user_guide/indexing.html#returning-a-view-versus-a-copy\n",
            "  errors=errors,\n"
          ],
          "name": "stderr"
        },
        {
          "output_type": "execute_result",
          "data": {
            "text/html": [
              "<div>\n",
              "<style scoped>\n",
              "    .dataframe tbody tr th:only-of-type {\n",
              "        vertical-align: middle;\n",
              "    }\n",
              "\n",
              "    .dataframe tbody tr th {\n",
              "        vertical-align: top;\n",
              "    }\n",
              "\n",
              "    .dataframe thead th {\n",
              "        text-align: right;\n",
              "    }\n",
              "</style>\n",
              "<table border=\"1\" class=\"dataframe\">\n",
              "  <thead>\n",
              "    <tr style=\"text-align: right;\">\n",
              "      <th></th>\n",
              "      <th>DR Number</th>\n",
              "      <th>Date Reported</th>\n",
              "      <th>Date Occurred</th>\n",
              "      <th>Time Occurred</th>\n",
              "      <th>Area ID</th>\n",
              "      <th>Months</th>\n",
              "    </tr>\n",
              "  </thead>\n",
              "  <tbody>\n",
              "    <tr>\n",
              "      <th>0</th>\n",
              "      <td>190319651</td>\n",
              "      <td>2019-08-24</td>\n",
              "      <td>2019-08-24</td>\n",
              "      <td>450</td>\n",
              "      <td>3</td>\n",
              "      <td>2019-08-01</td>\n",
              "    </tr>\n",
              "    <tr>\n",
              "      <th>1</th>\n",
              "      <td>190319680</td>\n",
              "      <td>2019-08-30</td>\n",
              "      <td>2019-08-30</td>\n",
              "      <td>2320</td>\n",
              "      <td>3</td>\n",
              "      <td>2019-08-01</td>\n",
              "    </tr>\n",
              "    <tr>\n",
              "      <th>2</th>\n",
              "      <td>190413769</td>\n",
              "      <td>2019-08-25</td>\n",
              "      <td>2019-08-25</td>\n",
              "      <td>545</td>\n",
              "      <td>4</td>\n",
              "      <td>2019-08-01</td>\n",
              "    </tr>\n",
              "    <tr>\n",
              "      <th>3</th>\n",
              "      <td>190127578</td>\n",
              "      <td>2019-11-20</td>\n",
              "      <td>2019-11-20</td>\n",
              "      <td>350</td>\n",
              "      <td>1</td>\n",
              "      <td>2019-11-01</td>\n",
              "    </tr>\n",
              "    <tr>\n",
              "      <th>4</th>\n",
              "      <td>190319695</td>\n",
              "      <td>2019-08-30</td>\n",
              "      <td>2019-08-30</td>\n",
              "      <td>2100</td>\n",
              "      <td>3</td>\n",
              "      <td>2019-08-01</td>\n",
              "    </tr>\n",
              "  </tbody>\n",
              "</table>\n",
              "</div>"
            ],
            "text/plain": [
              "   DR Number Date Reported Date Occurred  Time Occurred  Area ID     Months\n",
              "0  190319651    2019-08-24    2019-08-24            450        3 2019-08-01\n",
              "1  190319680    2019-08-30    2019-08-30           2320        3 2019-08-01\n",
              "2  190413769    2019-08-25    2019-08-25            545        4 2019-08-01\n",
              "3  190127578    2019-11-20    2019-11-20            350        1 2019-11-01\n",
              "4  190319695    2019-08-30    2019-08-30           2100        3 2019-08-01"
            ]
          },
          "metadata": {
            "tags": []
          },
          "execution_count": 21
        }
      ]
    },
    {
      "cell_type": "code",
      "metadata": {
        "colab": {
          "base_uri": "https://localhost:8080/"
        },
        "id": "beUlJdGQnmnn",
        "outputId": "f4e05822-3f6a-4a94-f9ad-9fd05421e4e6"
      },
      "source": [
        "df=data1.groupby('Months')['DR Number'].count()\r\n",
        "df.head()"
      ],
      "execution_count": null,
      "outputs": [
        {
          "output_type": "execute_result",
          "data": {
            "text/plain": [
              "Months\n",
              "2010-01-01    3723\n",
              "2010-02-01    3492\n",
              "2010-03-01    3900\n",
              "2010-04-01    3670\n",
              "2010-05-01    3809\n",
              "Name: DR Number, dtype: int64"
            ]
          },
          "metadata": {
            "tags": []
          },
          "execution_count": 22
        }
      ]
    },
    {
      "cell_type": "code",
      "metadata": {
        "colab": {
          "base_uri": "https://localhost:8080/"
        },
        "id": "v_YS4kEgnoTh",
        "outputId": "a9573a38-8e79-4aa5-ff48-31749841d88b"
      },
      "source": [
        "df.tail()"
      ],
      "execution_count": null,
      "outputs": [
        {
          "output_type": "execute_result",
          "data": {
            "text/plain": [
              "Months\n",
              "2020-09-01    3672\n",
              "2020-10-01    3740\n",
              "2020-11-01    3386\n",
              "2020-12-01    3234\n",
              "2021-01-01     632\n",
              "Name: DR Number, dtype: int64"
            ]
          },
          "metadata": {
            "tags": []
          },
          "execution_count": 23
        }
      ]
    },
    {
      "cell_type": "code",
      "metadata": {
        "id": "8MaAN43NnqbW"
      },
      "source": [
        "df=df[:-1]"
      ],
      "execution_count": null,
      "outputs": []
    },
    {
      "cell_type": "code",
      "metadata": {
        "colab": {
          "base_uri": "https://localhost:8080/",
          "height": 225
        },
        "id": "2eeGIX84nuG-",
        "outputId": "23cc1f03-9404-453f-a1b3-596d4b97c003"
      },
      "source": [
        "df=pd.DataFrame(df)\r\n",
        "df.head()"
      ],
      "execution_count": null,
      "outputs": [
        {
          "output_type": "execute_result",
          "data": {
            "text/html": [
              "<div>\n",
              "<style scoped>\n",
              "    .dataframe tbody tr th:only-of-type {\n",
              "        vertical-align: middle;\n",
              "    }\n",
              "\n",
              "    .dataframe tbody tr th {\n",
              "        vertical-align: top;\n",
              "    }\n",
              "\n",
              "    .dataframe thead th {\n",
              "        text-align: right;\n",
              "    }\n",
              "</style>\n",
              "<table border=\"1\" class=\"dataframe\">\n",
              "  <thead>\n",
              "    <tr style=\"text-align: right;\">\n",
              "      <th></th>\n",
              "      <th>DR Number</th>\n",
              "    </tr>\n",
              "    <tr>\n",
              "      <th>Months</th>\n",
              "      <th></th>\n",
              "    </tr>\n",
              "  </thead>\n",
              "  <tbody>\n",
              "    <tr>\n",
              "      <th>2010-01-01</th>\n",
              "      <td>3723</td>\n",
              "    </tr>\n",
              "    <tr>\n",
              "      <th>2010-02-01</th>\n",
              "      <td>3492</td>\n",
              "    </tr>\n",
              "    <tr>\n",
              "      <th>2010-03-01</th>\n",
              "      <td>3900</td>\n",
              "    </tr>\n",
              "    <tr>\n",
              "      <th>2010-04-01</th>\n",
              "      <td>3670</td>\n",
              "    </tr>\n",
              "    <tr>\n",
              "      <th>2010-05-01</th>\n",
              "      <td>3809</td>\n",
              "    </tr>\n",
              "  </tbody>\n",
              "</table>\n",
              "</div>"
            ],
            "text/plain": [
              "            DR Number\n",
              "Months               \n",
              "2010-01-01       3723\n",
              "2010-02-01       3492\n",
              "2010-03-01       3900\n",
              "2010-04-01       3670\n",
              "2010-05-01       3809"
            ]
          },
          "metadata": {
            "tags": []
          },
          "execution_count": 27
        }
      ]
    },
    {
      "cell_type": "code",
      "metadata": {
        "colab": {
          "base_uri": "https://localhost:8080/",
          "height": 431
        },
        "id": "RA4m4qlHn1Xw",
        "outputId": "2202cc16-637f-4b2a-fa3d-a960397eabb0"
      },
      "source": [
        "df.rename(columns={'DR Number':'y'},inplace=True)\r\n",
        "df"
      ],
      "execution_count": null,
      "outputs": [
        {
          "output_type": "execute_result",
          "data": {
            "text/html": [
              "<div>\n",
              "<style scoped>\n",
              "    .dataframe tbody tr th:only-of-type {\n",
              "        vertical-align: middle;\n",
              "    }\n",
              "\n",
              "    .dataframe tbody tr th {\n",
              "        vertical-align: top;\n",
              "    }\n",
              "\n",
              "    .dataframe thead th {\n",
              "        text-align: right;\n",
              "    }\n",
              "</style>\n",
              "<table border=\"1\" class=\"dataframe\">\n",
              "  <thead>\n",
              "    <tr style=\"text-align: right;\">\n",
              "      <th></th>\n",
              "      <th>y</th>\n",
              "    </tr>\n",
              "    <tr>\n",
              "      <th>Months</th>\n",
              "      <th></th>\n",
              "    </tr>\n",
              "  </thead>\n",
              "  <tbody>\n",
              "    <tr>\n",
              "      <th>2010-01-01</th>\n",
              "      <td>3723</td>\n",
              "    </tr>\n",
              "    <tr>\n",
              "      <th>2010-02-01</th>\n",
              "      <td>3492</td>\n",
              "    </tr>\n",
              "    <tr>\n",
              "      <th>2010-03-01</th>\n",
              "      <td>3900</td>\n",
              "    </tr>\n",
              "    <tr>\n",
              "      <th>2010-04-01</th>\n",
              "      <td>3670</td>\n",
              "    </tr>\n",
              "    <tr>\n",
              "      <th>2010-05-01</th>\n",
              "      <td>3809</td>\n",
              "    </tr>\n",
              "    <tr>\n",
              "      <th>...</th>\n",
              "      <td>...</td>\n",
              "    </tr>\n",
              "    <tr>\n",
              "      <th>2020-08-01</th>\n",
              "      <td>3703</td>\n",
              "    </tr>\n",
              "    <tr>\n",
              "      <th>2020-09-01</th>\n",
              "      <td>3672</td>\n",
              "    </tr>\n",
              "    <tr>\n",
              "      <th>2020-10-01</th>\n",
              "      <td>3740</td>\n",
              "    </tr>\n",
              "    <tr>\n",
              "      <th>2020-11-01</th>\n",
              "      <td>3386</td>\n",
              "    </tr>\n",
              "    <tr>\n",
              "      <th>2020-12-01</th>\n",
              "      <td>3234</td>\n",
              "    </tr>\n",
              "  </tbody>\n",
              "</table>\n",
              "<p>132 rows × 1 columns</p>\n",
              "</div>"
            ],
            "text/plain": [
              "               y\n",
              "Months          \n",
              "2010-01-01  3723\n",
              "2010-02-01  3492\n",
              "2010-03-01  3900\n",
              "2010-04-01  3670\n",
              "2010-05-01  3809\n",
              "...          ...\n",
              "2020-08-01  3703\n",
              "2020-09-01  3672\n",
              "2020-10-01  3740\n",
              "2020-11-01  3386\n",
              "2020-12-01  3234\n",
              "\n",
              "[132 rows x 1 columns]"
            ]
          },
          "metadata": {
            "tags": []
          },
          "execution_count": 28
        }
      ]
    },
    {
      "cell_type": "code",
      "metadata": {
        "colab": {
          "base_uri": "https://localhost:8080/",
          "height": 225
        },
        "id": "ZFX4JjHt_LGc",
        "outputId": "6852801a-e1f9-4b81-f601-cd19ce4bc569"
      },
      "source": [
        "df['ds']=df.index\r\n",
        "df.head()"
      ],
      "execution_count": null,
      "outputs": [
        {
          "output_type": "execute_result",
          "data": {
            "text/html": [
              "<div>\n",
              "<style scoped>\n",
              "    .dataframe tbody tr th:only-of-type {\n",
              "        vertical-align: middle;\n",
              "    }\n",
              "\n",
              "    .dataframe tbody tr th {\n",
              "        vertical-align: top;\n",
              "    }\n",
              "\n",
              "    .dataframe thead th {\n",
              "        text-align: right;\n",
              "    }\n",
              "</style>\n",
              "<table border=\"1\" class=\"dataframe\">\n",
              "  <thead>\n",
              "    <tr style=\"text-align: right;\">\n",
              "      <th></th>\n",
              "      <th>y</th>\n",
              "      <th>ds</th>\n",
              "    </tr>\n",
              "    <tr>\n",
              "      <th>Months</th>\n",
              "      <th></th>\n",
              "      <th></th>\n",
              "    </tr>\n",
              "  </thead>\n",
              "  <tbody>\n",
              "    <tr>\n",
              "      <th>2010-01-01</th>\n",
              "      <td>3723</td>\n",
              "      <td>2010-01-01</td>\n",
              "    </tr>\n",
              "    <tr>\n",
              "      <th>2010-02-01</th>\n",
              "      <td>3492</td>\n",
              "      <td>2010-02-01</td>\n",
              "    </tr>\n",
              "    <tr>\n",
              "      <th>2010-03-01</th>\n",
              "      <td>3900</td>\n",
              "      <td>2010-03-01</td>\n",
              "    </tr>\n",
              "    <tr>\n",
              "      <th>2010-04-01</th>\n",
              "      <td>3670</td>\n",
              "      <td>2010-04-01</td>\n",
              "    </tr>\n",
              "    <tr>\n",
              "      <th>2010-05-01</th>\n",
              "      <td>3809</td>\n",
              "      <td>2010-05-01</td>\n",
              "    </tr>\n",
              "  </tbody>\n",
              "</table>\n",
              "</div>"
            ],
            "text/plain": [
              "               y         ds\n",
              "Months                     \n",
              "2010-01-01  3723 2010-01-01\n",
              "2010-02-01  3492 2010-02-01\n",
              "2010-03-01  3900 2010-03-01\n",
              "2010-04-01  3670 2010-04-01\n",
              "2010-05-01  3809 2010-05-01"
            ]
          },
          "metadata": {
            "tags": []
          },
          "execution_count": 29
        }
      ]
    },
    {
      "cell_type": "code",
      "metadata": {
        "colab": {
          "base_uri": "https://localhost:8080/",
          "height": 195
        },
        "id": "OpMjmI25_LKe",
        "outputId": "bde5923a-53d5-4bad-e0c6-c99b84e3a0d8"
      },
      "source": [
        "df.index=np.arange(0,132)\r\n",
        "df.head()"
      ],
      "execution_count": null,
      "outputs": [
        {
          "output_type": "execute_result",
          "data": {
            "text/html": [
              "<div>\n",
              "<style scoped>\n",
              "    .dataframe tbody tr th:only-of-type {\n",
              "        vertical-align: middle;\n",
              "    }\n",
              "\n",
              "    .dataframe tbody tr th {\n",
              "        vertical-align: top;\n",
              "    }\n",
              "\n",
              "    .dataframe thead th {\n",
              "        text-align: right;\n",
              "    }\n",
              "</style>\n",
              "<table border=\"1\" class=\"dataframe\">\n",
              "  <thead>\n",
              "    <tr style=\"text-align: right;\">\n",
              "      <th></th>\n",
              "      <th>y</th>\n",
              "      <th>ds</th>\n",
              "    </tr>\n",
              "  </thead>\n",
              "  <tbody>\n",
              "    <tr>\n",
              "      <th>0</th>\n",
              "      <td>3723</td>\n",
              "      <td>2010-01-01</td>\n",
              "    </tr>\n",
              "    <tr>\n",
              "      <th>1</th>\n",
              "      <td>3492</td>\n",
              "      <td>2010-02-01</td>\n",
              "    </tr>\n",
              "    <tr>\n",
              "      <th>2</th>\n",
              "      <td>3900</td>\n",
              "      <td>2010-03-01</td>\n",
              "    </tr>\n",
              "    <tr>\n",
              "      <th>3</th>\n",
              "      <td>3670</td>\n",
              "      <td>2010-04-01</td>\n",
              "    </tr>\n",
              "    <tr>\n",
              "      <th>4</th>\n",
              "      <td>3809</td>\n",
              "      <td>2010-05-01</td>\n",
              "    </tr>\n",
              "  </tbody>\n",
              "</table>\n",
              "</div>"
            ],
            "text/plain": [
              "      y         ds\n",
              "0  3723 2010-01-01\n",
              "1  3492 2010-02-01\n",
              "2  3900 2010-03-01\n",
              "3  3670 2010-04-01\n",
              "4  3809 2010-05-01"
            ]
          },
          "metadata": {
            "tags": []
          },
          "execution_count": 30
        }
      ]
    },
    {
      "cell_type": "code",
      "metadata": {
        "colab": {
          "base_uri": "https://localhost:8080/",
          "height": 195
        },
        "id": "k0CUBI04_LS5",
        "outputId": "885bfefa-f122-41e6-ee08-da205d42a032"
      },
      "source": [
        "df=df.reindex(columns=['ds','y'])\r\n",
        "df.head()"
      ],
      "execution_count": null,
      "outputs": [
        {
          "output_type": "execute_result",
          "data": {
            "text/html": [
              "<div>\n",
              "<style scoped>\n",
              "    .dataframe tbody tr th:only-of-type {\n",
              "        vertical-align: middle;\n",
              "    }\n",
              "\n",
              "    .dataframe tbody tr th {\n",
              "        vertical-align: top;\n",
              "    }\n",
              "\n",
              "    .dataframe thead th {\n",
              "        text-align: right;\n",
              "    }\n",
              "</style>\n",
              "<table border=\"1\" class=\"dataframe\">\n",
              "  <thead>\n",
              "    <tr style=\"text-align: right;\">\n",
              "      <th></th>\n",
              "      <th>ds</th>\n",
              "      <th>y</th>\n",
              "    </tr>\n",
              "  </thead>\n",
              "  <tbody>\n",
              "    <tr>\n",
              "      <th>0</th>\n",
              "      <td>2010-01-01</td>\n",
              "      <td>3723</td>\n",
              "    </tr>\n",
              "    <tr>\n",
              "      <th>1</th>\n",
              "      <td>2010-02-01</td>\n",
              "      <td>3492</td>\n",
              "    </tr>\n",
              "    <tr>\n",
              "      <th>2</th>\n",
              "      <td>2010-03-01</td>\n",
              "      <td>3900</td>\n",
              "    </tr>\n",
              "    <tr>\n",
              "      <th>3</th>\n",
              "      <td>2010-04-01</td>\n",
              "      <td>3670</td>\n",
              "    </tr>\n",
              "    <tr>\n",
              "      <th>4</th>\n",
              "      <td>2010-05-01</td>\n",
              "      <td>3809</td>\n",
              "    </tr>\n",
              "  </tbody>\n",
              "</table>\n",
              "</div>"
            ],
            "text/plain": [
              "          ds     y\n",
              "0 2010-01-01  3723\n",
              "1 2010-02-01  3492\n",
              "2 2010-03-01  3900\n",
              "3 2010-04-01  3670\n",
              "4 2010-05-01  3809"
            ]
          },
          "metadata": {
            "tags": []
          },
          "execution_count": 31
        }
      ]
    },
    {
      "cell_type": "code",
      "metadata": {
        "colab": {
          "base_uri": "https://localhost:8080/"
        },
        "id": "vNrbqdWw_2VG",
        "outputId": "88f2b437-7cc0-4c53-941b-4dfc0a66c465"
      },
      "source": [
        "df.info()"
      ],
      "execution_count": null,
      "outputs": [
        {
          "output_type": "stream",
          "text": [
            "<class 'pandas.core.frame.DataFrame'>\n",
            "Int64Index: 132 entries, 0 to 131\n",
            "Data columns (total 2 columns):\n",
            " #   Column  Non-Null Count  Dtype         \n",
            "---  ------  --------------  -----         \n",
            " 0   ds      132 non-null    datetime64[ns]\n",
            " 1   y       132 non-null    int64         \n",
            "dtypes: datetime64[ns](1), int64(1)\n",
            "memory usage: 3.1 KB\n"
          ],
          "name": "stdout"
        }
      ]
    },
    {
      "cell_type": "code",
      "metadata": {
        "colab": {
          "base_uri": "https://localhost:8080/"
        },
        "id": "SJa-et8X_2Yh",
        "outputId": "ed66fb50-df44-4437-8a03-d6a05f64d3b0"
      },
      "source": [
        "df.isnull().sum()"
      ],
      "execution_count": null,
      "outputs": [
        {
          "output_type": "execute_result",
          "data": {
            "text/plain": [
              "ds    0\n",
              "y     0\n",
              "dtype: int64"
            ]
          },
          "metadata": {
            "tags": []
          },
          "execution_count": 33
        }
      ]
    },
    {
      "cell_type": "markdown",
      "metadata": {
        "id": "Ym8Kxg3kAaYi"
      },
      "source": [
        "**FB Prophet**"
      ]
    },
    {
      "cell_type": "code",
      "metadata": {
        "id": "URdIy-o-oNJS"
      },
      "source": [
        "from fbprophet import Prophet"
      ],
      "execution_count": null,
      "outputs": []
    },
    {
      "cell_type": "code",
      "metadata": {
        "id": "yPL-wveWf-UW"
      },
      "source": [
        "from dateutil.tz import tzutc"
      ],
      "execution_count": null,
      "outputs": []
    },
    {
      "cell_type": "code",
      "metadata": {
        "id": "ovpBrVs7dC74",
        "colab": {
          "base_uri": "https://localhost:8080/"
        },
        "outputId": "d06268a8-c911-4c54-d945-cca85919d935"
      },
      "source": [
        "type(df['ds'])"
      ],
      "execution_count": null,
      "outputs": [
        {
          "output_type": "execute_result",
          "data": {
            "text/plain": [
              "pandas.core.series.Series"
            ]
          },
          "metadata": {
            "tags": []
          },
          "execution_count": 36
        }
      ]
    },
    {
      "cell_type": "code",
      "metadata": {
        "id": "d9pwuTkqgK7e"
      },
      "source": [
        "#df1['ds'] = df1['ds'].dt.tz_localize(None)"
      ],
      "execution_count": null,
      "outputs": []
    },
    {
      "cell_type": "code",
      "metadata": {
        "id": "5AZ7LOwroO0g",
        "colab": {
          "base_uri": "https://localhost:8080/"
        },
        "outputId": "7aea2c93-0f1e-42e8-fd03-645978170f7a"
      },
      "source": [
        "# Initialize the Model\r\n",
        "model=Prophet()\r\n",
        "x=model.fit(df)"
      ],
      "execution_count": null,
      "outputs": [
        {
          "output_type": "stream",
          "text": [
            "INFO:fbprophet:Disabling weekly seasonality. Run prophet with weekly_seasonality=True to override this.\n",
            "INFO:fbprophet:Disabling daily seasonality. Run prophet with daily_seasonality=True to override this.\n"
          ],
          "name": "stderr"
        }
      ]
    },
    {
      "cell_type": "code",
      "metadata": {
        "id": "gSIG25ZLoQec",
        "colab": {
          "base_uri": "https://localhost:8080/",
          "height": 195
        },
        "outputId": "26fe5f38-17ee-445c-f269-78011632630c"
      },
      "source": [
        "df.tail()"
      ],
      "execution_count": null,
      "outputs": [
        {
          "output_type": "execute_result",
          "data": {
            "text/html": [
              "<div>\n",
              "<style scoped>\n",
              "    .dataframe tbody tr th:only-of-type {\n",
              "        vertical-align: middle;\n",
              "    }\n",
              "\n",
              "    .dataframe tbody tr th {\n",
              "        vertical-align: top;\n",
              "    }\n",
              "\n",
              "    .dataframe thead th {\n",
              "        text-align: right;\n",
              "    }\n",
              "</style>\n",
              "<table border=\"1\" class=\"dataframe\">\n",
              "  <thead>\n",
              "    <tr style=\"text-align: right;\">\n",
              "      <th></th>\n",
              "      <th>ds</th>\n",
              "      <th>y</th>\n",
              "    </tr>\n",
              "  </thead>\n",
              "  <tbody>\n",
              "    <tr>\n",
              "      <th>127</th>\n",
              "      <td>2020-08-01</td>\n",
              "      <td>3703</td>\n",
              "    </tr>\n",
              "    <tr>\n",
              "      <th>128</th>\n",
              "      <td>2020-09-01</td>\n",
              "      <td>3672</td>\n",
              "    </tr>\n",
              "    <tr>\n",
              "      <th>129</th>\n",
              "      <td>2020-10-01</td>\n",
              "      <td>3740</td>\n",
              "    </tr>\n",
              "    <tr>\n",
              "      <th>130</th>\n",
              "      <td>2020-11-01</td>\n",
              "      <td>3386</td>\n",
              "    </tr>\n",
              "    <tr>\n",
              "      <th>131</th>\n",
              "      <td>2020-12-01</td>\n",
              "      <td>3234</td>\n",
              "    </tr>\n",
              "  </tbody>\n",
              "</table>\n",
              "</div>"
            ],
            "text/plain": [
              "            ds     y\n",
              "127 2020-08-01  3703\n",
              "128 2020-09-01  3672\n",
              "129 2020-10-01  3740\n",
              "130 2020-11-01  3386\n",
              "131 2020-12-01  3234"
            ]
          },
          "metadata": {
            "tags": []
          },
          "execution_count": 38
        }
      ]
    },
    {
      "cell_type": "code",
      "metadata": {
        "id": "MEYkHjwoolzc"
      },
      "source": [
        "### Create future dates of 365 days\r\n",
        "future_dates=model.make_future_dataframe(periods=365)"
      ],
      "execution_count": null,
      "outputs": []
    },
    {
      "cell_type": "code",
      "metadata": {
        "id": "oW3J-dURhrGQ"
      },
      "source": [
        "future1 = pd.DataFrame({'ds: pd.Datetime('})"
      ],
      "execution_count": null,
      "outputs": []
    },
    {
      "cell_type": "code",
      "metadata": {
        "id": "qXFPRabZiker"
      },
      "source": [
        "#future = pd.DataFrame({'ds': pd.date_range(start='2010-01-01', periods=a, freq='MS')})"
      ],
      "execution_count": null,
      "outputs": []
    },
    {
      "cell_type": "code",
      "metadata": {
        "id": "FQJJTsXforiJ"
      },
      "source": [
        "prediction=model.predict(future_dates)"
      ],
      "execution_count": null,
      "outputs": []
    },
    {
      "cell_type": "code",
      "metadata": {
        "id": "yQeGwzmfougp",
        "colab": {
          "base_uri": "https://localhost:8080/",
          "height": 299
        },
        "outputId": "6a64ea17-fb29-42a3-eb04-4f07cdc16b52"
      },
      "source": [
        "prediction.head()"
      ],
      "execution_count": null,
      "outputs": [
        {
          "output_type": "execute_result",
          "data": {
            "text/html": [
              "<div>\n",
              "<style scoped>\n",
              "    .dataframe tbody tr th:only-of-type {\n",
              "        vertical-align: middle;\n",
              "    }\n",
              "\n",
              "    .dataframe tbody tr th {\n",
              "        vertical-align: top;\n",
              "    }\n",
              "\n",
              "    .dataframe thead th {\n",
              "        text-align: right;\n",
              "    }\n",
              "</style>\n",
              "<table border=\"1\" class=\"dataframe\">\n",
              "  <thead>\n",
              "    <tr style=\"text-align: right;\">\n",
              "      <th></th>\n",
              "      <th>ds</th>\n",
              "      <th>trend</th>\n",
              "      <th>yhat_lower</th>\n",
              "      <th>yhat_upper</th>\n",
              "      <th>trend_lower</th>\n",
              "      <th>trend_upper</th>\n",
              "      <th>additive_terms</th>\n",
              "      <th>additive_terms_lower</th>\n",
              "      <th>additive_terms_upper</th>\n",
              "      <th>yearly</th>\n",
              "      <th>yearly_lower</th>\n",
              "      <th>yearly_upper</th>\n",
              "      <th>multiplicative_terms</th>\n",
              "      <th>multiplicative_terms_lower</th>\n",
              "      <th>multiplicative_terms_upper</th>\n",
              "      <th>yhat</th>\n",
              "    </tr>\n",
              "  </thead>\n",
              "  <tbody>\n",
              "    <tr>\n",
              "      <th>0</th>\n",
              "      <td>2010-01-01</td>\n",
              "      <td>3692.781431</td>\n",
              "      <td>3236.723703</td>\n",
              "      <td>3907.717556</td>\n",
              "      <td>3692.781431</td>\n",
              "      <td>3692.781431</td>\n",
              "      <td>-127.812304</td>\n",
              "      <td>-127.812304</td>\n",
              "      <td>-127.812304</td>\n",
              "      <td>-127.812304</td>\n",
              "      <td>-127.812304</td>\n",
              "      <td>-127.812304</td>\n",
              "      <td>0.0</td>\n",
              "      <td>0.0</td>\n",
              "      <td>0.0</td>\n",
              "      <td>3564.969127</td>\n",
              "    </tr>\n",
              "    <tr>\n",
              "      <th>1</th>\n",
              "      <td>2010-02-01</td>\n",
              "      <td>3696.999202</td>\n",
              "      <td>3133.850659</td>\n",
              "      <td>3745.200084</td>\n",
              "      <td>3696.999202</td>\n",
              "      <td>3696.999202</td>\n",
              "      <td>-232.059833</td>\n",
              "      <td>-232.059833</td>\n",
              "      <td>-232.059833</td>\n",
              "      <td>-232.059833</td>\n",
              "      <td>-232.059833</td>\n",
              "      <td>-232.059833</td>\n",
              "      <td>0.0</td>\n",
              "      <td>0.0</td>\n",
              "      <td>0.0</td>\n",
              "      <td>3464.939369</td>\n",
              "    </tr>\n",
              "    <tr>\n",
              "      <th>2</th>\n",
              "      <td>2010-03-01</td>\n",
              "      <td>3700.808801</td>\n",
              "      <td>3504.944704</td>\n",
              "      <td>4141.015598</td>\n",
              "      <td>3700.808801</td>\n",
              "      <td>3700.808801</td>\n",
              "      <td>113.888019</td>\n",
              "      <td>113.888019</td>\n",
              "      <td>113.888019</td>\n",
              "      <td>113.888019</td>\n",
              "      <td>113.888019</td>\n",
              "      <td>113.888019</td>\n",
              "      <td>0.0</td>\n",
              "      <td>0.0</td>\n",
              "      <td>0.0</td>\n",
              "      <td>3814.696820</td>\n",
              "    </tr>\n",
              "    <tr>\n",
              "      <th>3</th>\n",
              "      <td>2010-04-01</td>\n",
              "      <td>3705.026571</td>\n",
              "      <td>3197.014324</td>\n",
              "      <td>3849.750356</td>\n",
              "      <td>3705.026571</td>\n",
              "      <td>3705.026571</td>\n",
              "      <td>-196.321506</td>\n",
              "      <td>-196.321506</td>\n",
              "      <td>-196.321506</td>\n",
              "      <td>-196.321506</td>\n",
              "      <td>-196.321506</td>\n",
              "      <td>-196.321506</td>\n",
              "      <td>0.0</td>\n",
              "      <td>0.0</td>\n",
              "      <td>0.0</td>\n",
              "      <td>3508.705065</td>\n",
              "    </tr>\n",
              "    <tr>\n",
              "      <th>4</th>\n",
              "      <td>2010-05-01</td>\n",
              "      <td>3709.108284</td>\n",
              "      <td>3285.446616</td>\n",
              "      <td>3954.917323</td>\n",
              "      <td>3709.108284</td>\n",
              "      <td>3709.108284</td>\n",
              "      <td>-93.190182</td>\n",
              "      <td>-93.190182</td>\n",
              "      <td>-93.190182</td>\n",
              "      <td>-93.190182</td>\n",
              "      <td>-93.190182</td>\n",
              "      <td>-93.190182</td>\n",
              "      <td>0.0</td>\n",
              "      <td>0.0</td>\n",
              "      <td>0.0</td>\n",
              "      <td>3615.918102</td>\n",
              "    </tr>\n",
              "  </tbody>\n",
              "</table>\n",
              "</div>"
            ],
            "text/plain": [
              "          ds        trend  ...  multiplicative_terms_upper         yhat\n",
              "0 2010-01-01  3692.781431  ...                         0.0  3564.969127\n",
              "1 2010-02-01  3696.999202  ...                         0.0  3464.939369\n",
              "2 2010-03-01  3700.808801  ...                         0.0  3814.696820\n",
              "3 2010-04-01  3705.026571  ...                         0.0  3508.705065\n",
              "4 2010-05-01  3709.108284  ...                         0.0  3615.918102\n",
              "\n",
              "[5 rows x 16 columns]"
            ]
          },
          "metadata": {
            "tags": []
          },
          "execution_count": 43
        }
      ]
    },
    {
      "cell_type": "code",
      "metadata": {
        "id": "HA-mXhRmkk2M"
      },
      "source": [
        "#prediction['yhat'].loc[(prediction['ds']=='2021-05-01')]"
      ],
      "execution_count": null,
      "outputs": []
    },
    {
      "cell_type": "code",
      "metadata": {
        "id": "TLrA9cGkoxfp",
        "colab": {
          "base_uri": "https://localhost:8080/",
          "height": 865
        },
        "outputId": "a4a0b6f7-a747-4bac-fe90-809f204723ad"
      },
      "source": [
        "### plot the predicted projection\r\n",
        "model.plot(prediction)"
      ],
      "execution_count": null,
      "outputs": [
        {
          "output_type": "execute_result",
          "data": {
            "image/png": "[encoded data removed]",
            "text/plain": [
              "<Figure size 720x432 with 1 Axes>"
            ]
          },
          "metadata": {
            "tags": []
          },
          "execution_count": 44
        },
        {
          "output_type": "display_data",
          "data": {
            "image/png": "[encoded data removed]",
            "text/plain": [
              "<Figure size 720x432 with 1 Axes>"
            ]
          },
          "metadata": {
            "tags": []
          }
        }
      ]
    },
    {
      "cell_type": "code",
      "metadata": {
        "id": "gc5MmK04ozuP",
        "colab": {
          "base_uri": "https://localhost:8080/",
          "height": 865
        },
        "outputId": "7c7294da-2bbb-4f23-cacb-4c79678d1a6d"
      },
      "source": [
        "#### Visualize Each Components[Trends,yearly]\r\n",
        "model.plot_components(prediction)"
      ],
      "execution_count": null,
      "outputs": [
        {
          "output_type": "execute_result",
          "data": {
            "image/png": "[encoded data removed]",
            "text/plain": [
              "<Figure size 648x432 with 2 Axes>"
            ]
          },
          "metadata": {
            "tags": []
          },
          "execution_count": 45
        },
        {
          "output_type": "display_data",
          "data": {
            "image/png": "[encoded data removed]",
            "text/plain": [
              "<Figure size 648x432 with 2 Axes>"
            ]
          },
          "metadata": {
            "tags": []
          }
        }
      ]
    },
    {
      "cell_type": "code",
      "metadata": {
        "id": "doRM5mNGo7MM",
        "colab": {
          "base_uri": "https://localhost:8080/",
          "height": 294,
          "referenced_widgets": [
            "d52c995a993c4fbbb8a48933aa7df1f6",
            "48bb036586ed48ca8ed71582291fdc2d",
            "c3302d18933d47d4a73f0320151b8195",
            "9c3c1a7ec1504459b3f48835d964c28f",
            "2fed021ff9d44caeb858619ab8e93214",
            "b816c294fc37480bb683c0836dd79fed",
            "53f611ea683b45349230712adfbfb559",
            "fa988073255f4a36a3eba25ac0493536"
          ]
        },
        "outputId": "1b176f52-214e-4ce3-f12e-c64a15f5066c"
      },
      "source": [
        "from fbprophet.diagnostics import cross_validation\r\n",
        "df_cv = cross_validation(model, initial='730 days', period='180 days', horizon = '365 days')\r\n",
        "df_cv.head()"
      ],
      "execution_count": null,
      "outputs": [
        {
          "output_type": "stream",
          "text": [
            "INFO:fbprophet:Making 17 forecasts with cutoffs between 2012-01-13 00:00:00 and 2019-12-02 00:00:00\n"
          ],
          "name": "stderr"
        },
        {
          "output_type": "display_data",
          "data": {
            "application/vnd.jupyter.widget-view+json": {
              "model_id": "d52c995a993c4fbbb8a48933aa7df1f6",
              "version_minor": 0,
              "version_major": 2
            },
            "text/plain": [
              "HBox(children=(FloatProgress(value=0.0, max=17.0), HTML(value='')))"
            ]
          },
          "metadata": {
            "tags": []
          }
        },
        {
          "output_type": "stream",
          "text": [
            "INFO:fbprophet:n_changepoints greater than number of observations. Using 19.\n",
            "INFO:fbprophet:n_changepoints greater than number of observations. Using 23.\n"
          ],
          "name": "stderr"
        },
        {
          "output_type": "stream",
          "text": [
            "\n"
          ],
          "name": "stdout"
        },
        {
          "output_type": "execute_result",
          "data": {
            "text/html": [
              "<div>\n",
              "<style scoped>\n",
              "    .dataframe tbody tr th:only-of-type {\n",
              "        vertical-align: middle;\n",
              "    }\n",
              "\n",
              "    .dataframe tbody tr th {\n",
              "        vertical-align: top;\n",
              "    }\n",
              "\n",
              "    .dataframe thead th {\n",
              "        text-align: right;\n",
              "    }\n",
              "</style>\n",
              "<table border=\"1\" class=\"dataframe\">\n",
              "  <thead>\n",
              "    <tr style=\"text-align: right;\">\n",
              "      <th></th>\n",
              "      <th>ds</th>\n",
              "      <th>yhat</th>\n",
              "      <th>yhat_lower</th>\n",
              "      <th>yhat_upper</th>\n",
              "      <th>y</th>\n",
              "      <th>cutoff</th>\n",
              "    </tr>\n",
              "  </thead>\n",
              "  <tbody>\n",
              "    <tr>\n",
              "      <th>0</th>\n",
              "      <td>2012-02-01</td>\n",
              "      <td>4011.996521</td>\n",
              "      <td>4004.666888</td>\n",
              "      <td>4018.536283</td>\n",
              "      <td>3598</td>\n",
              "      <td>2012-01-13</td>\n",
              "    </tr>\n",
              "    <tr>\n",
              "      <th>1</th>\n",
              "      <td>2012-03-01</td>\n",
              "      <td>3807.503684</td>\n",
              "      <td>3784.097084</td>\n",
              "      <td>3831.455441</td>\n",
              "      <td>4179</td>\n",
              "      <td>2012-01-13</td>\n",
              "    </tr>\n",
              "    <tr>\n",
              "      <th>2</th>\n",
              "      <td>2012-04-01</td>\n",
              "      <td>4222.642578</td>\n",
              "      <td>4176.551904</td>\n",
              "      <td>4272.898206</td>\n",
              "      <td>3738</td>\n",
              "      <td>2012-01-13</td>\n",
              "    </tr>\n",
              "    <tr>\n",
              "      <th>3</th>\n",
              "      <td>2012-05-01</td>\n",
              "      <td>4518.975905</td>\n",
              "      <td>4447.382711</td>\n",
              "      <td>4599.567072</td>\n",
              "      <td>3764</td>\n",
              "      <td>2012-01-13</td>\n",
              "    </tr>\n",
              "    <tr>\n",
              "      <th>4</th>\n",
              "      <td>2012-06-01</td>\n",
              "      <td>4095.048931</td>\n",
              "      <td>3992.288862</td>\n",
              "      <td>4213.874920</td>\n",
              "      <td>3679</td>\n",
              "      <td>2012-01-13</td>\n",
              "    </tr>\n",
              "  </tbody>\n",
              "</table>\n",
              "</div>"
            ],
            "text/plain": [
              "          ds         yhat   yhat_lower   yhat_upper     y     cutoff\n",
              "0 2012-02-01  4011.996521  4004.666888  4018.536283  3598 2012-01-13\n",
              "1 2012-03-01  3807.503684  3784.097084  3831.455441  4179 2012-01-13\n",
              "2 2012-04-01  4222.642578  4176.551904  4272.898206  3738 2012-01-13\n",
              "3 2012-05-01  4518.975905  4447.382711  4599.567072  3764 2012-01-13\n",
              "4 2012-06-01  4095.048931  3992.288862  4213.874920  3679 2012-01-13"
            ]
          },
          "metadata": {
            "tags": []
          },
          "execution_count": 46
        }
      ]
    },
    {
      "cell_type": "code",
      "metadata": {
        "id": "hLLvgP--pP5d",
        "colab": {
          "base_uri": "https://localhost:8080/",
          "height": 195
        },
        "outputId": "f248b2eb-6c23-461f-dfc5-fa7e343c0328"
      },
      "source": [
        "from fbprophet.diagnostics import performance_metrics\r\n",
        "df_p = performance_metrics(df_cv)\r\n",
        "df_p.head()"
      ],
      "execution_count": null,
      "outputs": [
        {
          "output_type": "execute_result",
          "data": {
            "text/html": [
              "<div>\n",
              "<style scoped>\n",
              "    .dataframe tbody tr th:only-of-type {\n",
              "        vertical-align: middle;\n",
              "    }\n",
              "\n",
              "    .dataframe tbody tr th {\n",
              "        vertical-align: top;\n",
              "    }\n",
              "\n",
              "    .dataframe thead th {\n",
              "        text-align: right;\n",
              "    }\n",
              "</style>\n",
              "<table border=\"1\" class=\"dataframe\">\n",
              "  <thead>\n",
              "    <tr style=\"text-align: right;\">\n",
              "      <th></th>\n",
              "      <th>horizon</th>\n",
              "      <th>mse</th>\n",
              "      <th>rmse</th>\n",
              "      <th>mae</th>\n",
              "      <th>mape</th>\n",
              "      <th>mdape</th>\n",
              "      <th>coverage</th>\n",
              "    </tr>\n",
              "  </thead>\n",
              "  <tbody>\n",
              "    <tr>\n",
              "      <th>0</th>\n",
              "      <td>40 days</td>\n",
              "      <td>42083.491424</td>\n",
              "      <td>205.142612</td>\n",
              "      <td>170.092719</td>\n",
              "      <td>0.040773</td>\n",
              "      <td>0.035634</td>\n",
              "      <td>0.50</td>\n",
              "    </tr>\n",
              "    <tr>\n",
              "      <th>1</th>\n",
              "      <td>42 days</td>\n",
              "      <td>39976.702388</td>\n",
              "      <td>199.941747</td>\n",
              "      <td>160.974784</td>\n",
              "      <td>0.038498</td>\n",
              "      <td>0.024441</td>\n",
              "      <td>0.55</td>\n",
              "    </tr>\n",
              "    <tr>\n",
              "      <th>2</th>\n",
              "      <td>46 days</td>\n",
              "      <td>44422.065197</td>\n",
              "      <td>210.765427</td>\n",
              "      <td>172.661868</td>\n",
              "      <td>0.041209</td>\n",
              "      <td>0.035634</td>\n",
              "      <td>0.50</td>\n",
              "    </tr>\n",
              "    <tr>\n",
              "      <th>3</th>\n",
              "      <td>47 days</td>\n",
              "      <td>41357.251899</td>\n",
              "      <td>203.364825</td>\n",
              "      <td>165.565852</td>\n",
              "      <td>0.039229</td>\n",
              "      <td>0.028317</td>\n",
              "      <td>0.50</td>\n",
              "    </tr>\n",
              "    <tr>\n",
              "      <th>4</th>\n",
              "      <td>48 days</td>\n",
              "      <td>48218.168693</td>\n",
              "      <td>219.586358</td>\n",
              "      <td>182.734275</td>\n",
              "      <td>0.043373</td>\n",
              "      <td>0.036397</td>\n",
              "      <td>0.45</td>\n",
              "    </tr>\n",
              "  </tbody>\n",
              "</table>\n",
              "</div>"
            ],
            "text/plain": [
              "  horizon           mse        rmse         mae      mape     mdape  coverage\n",
              "0 40 days  42083.491424  205.142612  170.092719  0.040773  0.035634      0.50\n",
              "1 42 days  39976.702388  199.941747  160.974784  0.038498  0.024441      0.55\n",
              "2 46 days  44422.065197  210.765427  172.661868  0.041209  0.035634      0.50\n",
              "3 47 days  41357.251899  203.364825  165.565852  0.039229  0.028317      0.50\n",
              "4 48 days  48218.168693  219.586358  182.734275  0.043373  0.036397      0.45"
            ]
          },
          "metadata": {
            "tags": []
          },
          "execution_count": 47
        }
      ]
    },
    {
      "cell_type": "code",
      "metadata": {
        "id": "1_eklLOQpbb7",
        "colab": {
          "base_uri": "https://localhost:8080/",
          "height": 195
        },
        "outputId": "2acb0e9f-9d79-4554-df77-1f98950d33d8"
      },
      "source": [
        "df_p.head()\r\n"
      ],
      "execution_count": null,
      "outputs": [
        {
          "output_type": "execute_result",
          "data": {
            "text/html": [
              "<div>\n",
              "<style scoped>\n",
              "    .dataframe tbody tr th:only-of-type {\n",
              "        vertical-align: middle;\n",
              "    }\n",
              "\n",
              "    .dataframe tbody tr th {\n",
              "        vertical-align: top;\n",
              "    }\n",
              "\n",
              "    .dataframe thead th {\n",
              "        text-align: right;\n",
              "    }\n",
              "</style>\n",
              "<table border=\"1\" class=\"dataframe\">\n",
              "  <thead>\n",
              "    <tr style=\"text-align: right;\">\n",
              "      <th></th>\n",
              "      <th>horizon</th>\n",
              "      <th>mse</th>\n",
              "      <th>rmse</th>\n",
              "      <th>mae</th>\n",
              "      <th>mape</th>\n",
              "      <th>mdape</th>\n",
              "      <th>coverage</th>\n",
              "    </tr>\n",
              "  </thead>\n",
              "  <tbody>\n",
              "    <tr>\n",
              "      <th>0</th>\n",
              "      <td>40 days</td>\n",
              "      <td>42083.491424</td>\n",
              "      <td>205.142612</td>\n",
              "      <td>170.092719</td>\n",
              "      <td>0.040773</td>\n",
              "      <td>0.035634</td>\n",
              "      <td>0.50</td>\n",
              "    </tr>\n",
              "    <tr>\n",
              "      <th>1</th>\n",
              "      <td>42 days</td>\n",
              "      <td>39976.702388</td>\n",
              "      <td>199.941747</td>\n",
              "      <td>160.974784</td>\n",
              "      <td>0.038498</td>\n",
              "      <td>0.024441</td>\n",
              "      <td>0.55</td>\n",
              "    </tr>\n",
              "    <tr>\n",
              "      <th>2</th>\n",
              "      <td>46 days</td>\n",
              "      <td>44422.065197</td>\n",
              "      <td>210.765427</td>\n",
              "      <td>172.661868</td>\n",
              "      <td>0.041209</td>\n",
              "      <td>0.035634</td>\n",
              "      <td>0.50</td>\n",
              "    </tr>\n",
              "    <tr>\n",
              "      <th>3</th>\n",
              "      <td>47 days</td>\n",
              "      <td>41357.251899</td>\n",
              "      <td>203.364825</td>\n",
              "      <td>165.565852</td>\n",
              "      <td>0.039229</td>\n",
              "      <td>0.028317</td>\n",
              "      <td>0.50</td>\n",
              "    </tr>\n",
              "    <tr>\n",
              "      <th>4</th>\n",
              "      <td>48 days</td>\n",
              "      <td>48218.168693</td>\n",
              "      <td>219.586358</td>\n",
              "      <td>182.734275</td>\n",
              "      <td>0.043373</td>\n",
              "      <td>0.036397</td>\n",
              "      <td>0.45</td>\n",
              "    </tr>\n",
              "  </tbody>\n",
              "</table>\n",
              "</div>"
            ],
            "text/plain": [
              "  horizon           mse        rmse         mae      mape     mdape  coverage\n",
              "0 40 days  42083.491424  205.142612  170.092719  0.040773  0.035634      0.50\n",
              "1 42 days  39976.702388  199.941747  160.974784  0.038498  0.024441      0.55\n",
              "2 46 days  44422.065197  210.765427  172.661868  0.041209  0.035634      0.50\n",
              "3 47 days  41357.251899  203.364825  165.565852  0.039229  0.028317      0.50\n",
              "4 48 days  48218.168693  219.586358  182.734275  0.043373  0.036397      0.45"
            ]
          },
          "metadata": {
            "tags": []
          },
          "execution_count": 48
        }
      ]
    },
    {
      "cell_type": "code",
      "metadata": {
        "id": "r3OJj4_vpdcP",
        "colab": {
          "base_uri": "https://localhost:8080/",
          "height": 388
        },
        "outputId": "69eb0da3-2efd-4d56-ee3f-9952bde71ddd"
      },
      "source": [
        "from fbprophet.plot import plot_cross_validation_metric\r\n",
        "fig = plot_cross_validation_metric(df_cv, metric='rmse')"
      ],
      "execution_count": null,
      "outputs": [
        {
          "output_type": "display_data",
          "data": {
            "image/png": "[encoded data removed]",
            "text/plain": [
              "<Figure size 720x432 with 1 Axes>"
            ]
          },
          "metadata": {
            "tags": []
          }
        }
      ]
    }
  ]
}